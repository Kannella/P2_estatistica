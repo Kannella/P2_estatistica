{
  "nbformat": 4,
  "nbformat_minor": 0,
  "metadata": {
    "colab": {
      "provenance": [],
      "collapsed_sections": [
        "bDsxX6D7_iC8"
      ]
    },
    "kernelspec": {
      "name": "python3",
      "display_name": "Python 3"
    },
    "language_info": {
      "name": "python"
    }
  },
  "cells": [
    {
      "cell_type": "markdown",
      "source": [
        "## Instruções para uso das funções de teste de hipótese\n",
        "\n",
        "Nas 4 células ocultas abaixo estão os códigos das funções:\n",
        "\n",
        "* `TH_media_z`: Função para teste de hipótese da média populacional $\\mu$, com nível de significância $\\alpha$, supondo desvio padrão populacional $\\sigma$ conhecido (uso do valor-p).\n",
        "    \n",
        "* `TH_media_z_regiao`: Idem anterior, porém utilizando as regiões de rejeição como critério de decisão.\n",
        "\n",
        "* `TH_media_t`: Função para teste de hipótese da média $\\mu$, com nível de significância $\\alpha$, supondo desvio padrão populacional $\\sigma$ desconhecido.\n",
        "\n",
        "* `TH_vardp_chi2`: Função para teste de hipótese da variância $\\sigma^2$ ou do desvio padrão $\\sigma$ populacionais, com nível de significância $\\alpha$.\n",
        "\n",
        "**IMPORTANTE:** Execute as células ocultas! Não é necessário visualizá-las para que as funçõe sestejam disponíveis para uso. Entertanto, caso deseje verificar os códigos, clique no triângulo preto que antedece o título \"Instruções para uso das funções de teste de hipótese\"."
      ],
      "metadata": {
        "id": "bDsxX6D7_iC8"
      }
    },
    {
      "cell_type": "code",
      "execution_count": null,
      "metadata": {
        "id": "5_kRR8xr_cdr"
      },
      "outputs": [],
      "source": [
        "def TH_media_z(x_barra=None, n_amostras=None, mu=None,\n",
        "               sigma=None, alpha=0.05, teste='esquerda', conclusao=True):\n",
        "  '''Função para teste de hipótese da média populacional mu, com nível de\n",
        "  significância alpha, supondo desvio padrão populacional sigma conhecido.\n",
        "  ENTRADA:\n",
        "  - x_barra: média amostral\n",
        "  - n_amostras: número de amostras coletadas no experimento\n",
        "  - mu: hipótese nula para a média populacional\n",
        "  - sigma: desvio padrão populacional\n",
        "  - alpha: nível de significância adotado no teste (valor default 0.05)\n",
        "  - teste: string que identifica o tipo de teste a ser realizado: 'esquerda'\n",
        "  para teste unilateral à esquerda, 'direita', para teste unilateral à direita\n",
        "  e 'bilateral' para teste bilateral (valor default 'esquerda')\n",
        "  - conclusao: flag para ativação do relatório de conclusão do teste de hipótese\n",
        "  (valor default=True)\n",
        "  SAíDA:\n",
        "  - relatório de conclusão do teste de hipótese, caso cocnlusao=True\n",
        "  - p_valor: valor p do teste de hipótese'''\n",
        "\n",
        "  from scipy import stats as st\n",
        "\n",
        "  # Criação da distribuição amostral das médias\n",
        "  dist_amostras = st.norm(loc=mu, scale=sigma/n_amostras**0.5)\n",
        "\n",
        "  # Cálculo do p-valor, de acordo com o tipo de teste\n",
        "  if teste == 'esquerda':\n",
        "    p_valor = dist_amostras.cdf(x_barra)\n",
        "    tipo = 'unilateral à esquerda'\n",
        "  elif teste == 'direita':\n",
        "    p_valor = dist_amostras.sf(x_barra)\n",
        "    tipo = 'unilateral à direita'\n",
        "  elif teste == 'bilateral':\n",
        "    p_valor =  2*abs(dist_amostras.cdf(x_barra))\n",
        "    tipo = 'bilateral'\n",
        "\n",
        "  # Relatório de conclusão do teste de hipótese\n",
        "  if conclusao:\n",
        "    print('*** Teste de hipótese para a média populacional (desvio padrão conhecido) ***')\n",
        "    print(f'Teste {tipo} com p-valor = {p_valor:.6f}')\n",
        "    if p_valor <= alpha:\n",
        "      print(f'Hipótese nula rejeitada ao nível de significância {alpha*100}%')\n",
        "    else:\n",
        "      print(f'Hipótese nula NÃO rejeitada ao nível de significância {alpha*100}%')\n",
        "  return p_valor"
      ]
    },
    {
      "cell_type": "code",
      "source": [
        "def TH_media_z_regiao(x_barra=None, n_amostras=None, mu=None,\n",
        "                      sigma=None, alpha=0.05, teste='esquerda', conclusao=True):\n",
        "  '''Função para teste de hipótese da média populacional mu, com nível de\n",
        "  significância alpha, supondo desvio padrão populacional sigma conhecido.\n",
        "  ENTRADA:\n",
        "  - x_barra: média amostral\n",
        "  - n_amostras: número de amostras coletadas no experimento\n",
        "  - mu: hipótese nula para a média populacional\n",
        "  - sigma: desvio padrão populacional\n",
        "  - alpha: nível de significância adotado no teste (valor default 0.05)\n",
        "  - teste: string que identifica o tipo de teste a ser realizado: 'esquerda'\n",
        "  para teste unilateral à esquerda, 'direita', para teste unilateral à direita\n",
        "  e 'bilateral' para teste bilateral (valor default 'esquerda')\n",
        "  - conclusao: flag para ativação do relatório de conclusão do teste de hipótese\n",
        "  (valor default=True)\n",
        "  SAíDA:\n",
        "  - relatório de conclusão do teste de hipótese, caso cocnlusao=True\n",
        "  - z0: valor z crítico do teste de hipótese (fronteira da região de rejeição)'''\n",
        "\n",
        "  from scipy import stats as st\n",
        "\n",
        "  # Criação da distribuição normal padrão\n",
        "  dist_padrao = st.norm(loc=0, scale=1)\n",
        "\n",
        "  # Cálculo da estatística de teste padronizada\n",
        "  z = (x_barra-mu)/(sigma/n_amostras**0.5)\n",
        "\n",
        "  # Hipótese nula inicialmente validada\n",
        "  rejeicao = False\n",
        "\n",
        "  # Cálculo do z crítico, de acordo com o tipo de teste\n",
        "  if teste == 'esquerda':\n",
        "    z0 = dist_padrao.ppf(alpha)\n",
        "    tipo = 'unilateral à esquerda'\n",
        "    # Decisão sobre pertinência de z à região de rejeição\n",
        "    if z <= z0:\n",
        "      rejeicao = True\n",
        "  elif teste == 'direita':\n",
        "    z0 = dist_padrao.ppf(1-alpha)\n",
        "    tipo = 'unilateral à direita'\n",
        "    # Decisão sobre pertinência de z à região de rejeição\n",
        "    if z >= z0:\n",
        "      rejeicao = True\n",
        "  elif teste == 'bilateral':\n",
        "    z0 = dist_padrao.ppf(alpha/2)\n",
        "    tipo = 'bilateral'\n",
        "    # Decisão sobre pertinência de z à região de rejeição\n",
        "    if (z <= z0) or (z >= -z0):\n",
        "      rejeicao = True\n",
        "\n",
        "  # Relatório de conclusão do teste de hipótese\n",
        "  if conclusao:\n",
        "     print('*** Teste de hipótese para a média populacional (desvio padrão conhecido) ***')\n",
        "     print(f'Teste {tipo} com z0 = {z0:.6f}')\n",
        "     if rejeicao:\n",
        "      print(f'Hipótese nula rejeitada ao nível de significância {alpha*100}%')\n",
        "     else:\n",
        "      print(f'Hipótese nula NÃO rejeitada ao nível de significância {alpha*100}%')\n",
        "  return z0"
      ],
      "metadata": {
        "id": "Irx3URtU_yRg"
      },
      "execution_count": null,
      "outputs": []
    },
    {
      "cell_type": "code",
      "source": [
        "def TH_media_t(x_barra=None, n_amostras=None, mu=None, s=None,\n",
        "               alpha=0.05, teste='esquerda', conclusao=True):\n",
        "  '''Função para teste de hipótese da média mu, com nível de significância\n",
        "     alpha, supondo desvio padrão populacional sigma desconhecido.\n",
        "     ENTRADA:\n",
        "     - x_barra: média amostral\n",
        "     - n_amostras: número de amostras coletadas no experimento\n",
        "     - mu: hipótese nula para a média populacional\n",
        "     - s: desvio padrão amostral\n",
        "     - alpha: nível de significância adotado no teste (valor default 0.05)\n",
        "     - teste: string que identifica o tipo de teste a ser realizado: 'esquerda'\n",
        "     para teste unilateral à esquerda, 'direita', para teste unilateral à direita\n",
        "     e 'bilateral' para teste bilateral (valor default 'esquerda')\n",
        "     - conclusao: flag para ativação do relatório de conclusão do teste de hipótese\n",
        "     (valor default=True)\n",
        "     SAÍDA:\n",
        "     - relatório de conclusão do teste de hipótese, caso cocnlusao=True\n",
        "     - t0: valor crítico do teste de hipótese'''\n",
        "\n",
        "  from scipy import stats as st\n",
        "\n",
        "  # Criação da distribuição t\n",
        "  dist_t = st.t(df=n_amostras-1)\n",
        "\n",
        "  # Cálculo da estatística de teste padronizada\n",
        "  t = (x_barra-mu)/(s/n_amostras**0.5)\n",
        "\n",
        "  # Hipótese nula inicialmente validada\n",
        "  rejeicao = False\n",
        "\n",
        "  # Cálculo do t crítico (t0), de acordo com o tipo de teste\n",
        "  if teste == 'esquerda':\n",
        "    t0 = dist_t.ppf(alpha)\n",
        "    tipo = 'unilateral à esquerda'\n",
        "    # Decisão sobre pertinência de t à região de rejeição\n",
        "    if t <= t0:\n",
        "      rejeicao = True\n",
        "  elif teste == 'direita':\n",
        "    t0 = dist_t.ppf(1-alpha)\n",
        "    tipo = 'unilateral à direita'\n",
        "    # Decisão sobre pertinência de t à região de rejeição\n",
        "    if t >= t0:\n",
        "      rejeicao = True\n",
        "  elif teste == 'bilateral':\n",
        "    t0 = dist_t.ppf(alpha/2)\n",
        "    tipo = 'bilateral'\n",
        "    # Decisão sobre pertinência de t à região de rejeição\n",
        "    if (t <= t0) or (t >= -t0):\n",
        "      rejeicao = True\n",
        "\n",
        "  # Relatório de conclusão do teste de hipótese\n",
        "  if conclusao:\n",
        "    print('*** Teste de hipótese para a média populacional (desvio padrão desconhecido) ***')\n",
        "    print(f'Teste {tipo} com t0 = {t0:.5f}')\n",
        "    if rejeicao:\n",
        "      print(f'Hipótese nula rejeitada ao nível de significância {alpha*100}%')\n",
        "    else:\n",
        "      print(f'Hipótese nula NÃO rejeitada ao nível de significância {alpha*100}%')\n",
        "  return t0"
      ],
      "metadata": {
        "id": "XBTXQAfW_3Wr"
      },
      "execution_count": null,
      "outputs": []
    },
    {
      "cell_type": "code",
      "source": [
        "def TH_vardp_chi2(est_amostral=None, n_amostras=None, val_parametro=None,\n",
        "                  parametro='sigma', alpha=0.05, teste='esquerda',\n",
        "                  conclusao=True):\n",
        "  '''Função para teste de hipótese da variância ou do desvio padrão populacional,\n",
        "  com nível de significância alpha.\n",
        "  ENTRADA:\n",
        "  - est_amostral: variância ou desvio padrão amostral\n",
        "  - n_amostras: número de amostras coletadas no experimento\n",
        "  - val_parametro = valor a ser testado, seja variância ou desvio padrão\n",
        "  - parametro = 'sigma2' para teste de variância e 'sigma' para teste de\n",
        "  desvio padrão populacional\n",
        "  - alpha: nível de significância adotado no teste (valor default 0.05)\n",
        "  - teste: string que identifica o tipo de teste a ser realizado: 'esquerda'\n",
        "  para teste unilateral à esquerda, 'direita', para teste unilateral à direita\n",
        "  e 'bilateral' para teste bilateral (valor default 'esquerda')\n",
        "  - conclusao: flag para ativação do relatório de conclusão do teste de hipótese\n",
        "  (valor default=True)\n",
        "  SAÍDA:\n",
        "  - relatório de conclusão do teste de hipótese, caso cocnlusao=True\n",
        "  - chi2: valor da estatística padronizada\n",
        "  - X20: valor(es) crítico(s) do teste'''\n",
        "\n",
        "  from scipy import stats as st\n",
        "\n",
        "  # Criação da distribuição chi-quadrado\n",
        "  dist_chi2 = st.chi2(df=n_amostras-1)\n",
        "\n",
        "  # Cálculo da estatística de teste padronizada\n",
        "  if parametro == 'sigma2':\n",
        "    chi2 = (n_amostras-1)*est_amostral/val_parametro\n",
        "    param = 'variância'\n",
        "  elif parametro == 'sigma':\n",
        "    chi2 = (n_amostras-1)*est_amostral**2/val_parametro**2\n",
        "    param = 'desvio padrão'\n",
        "\n",
        "  # Hipótese nula inicialmente validada\n",
        "  rejeicao = False\n",
        "\n",
        "  # Cálculo do chi2 crítico, de acordo com o tipo de teste\n",
        "  if teste == 'esquerda':\n",
        "    X20 = dist_chi2.ppf(alpha)\n",
        "    tipo = 'unilateral à esquerda'\n",
        "    # Decisão sobre pertinência de X20 à região de rejeição\n",
        "    if chi2 <= X20:\n",
        "      rejeicao = True\n",
        "  elif teste == 'direita':\n",
        "    X20 = dist_chi2.ppf(1-alpha)\n",
        "    tipo = 'unilateral à direita'\n",
        "    # Decisão sobre pertinência de X20 à região de rejeição\n",
        "    if chi2 >= X20:\n",
        "      rejeicao = True\n",
        "  elif teste == 'bilateral':\n",
        "    X2L = dist_chi2.ppf(alpha/2)\n",
        "    X2R = dist_chi2.ppf(1-alpha/2)\n",
        "    tipo = 'bilateral'\n",
        "    X20 = (X2L, X2R)\n",
        "    # Decisão sobre pertinência de X20 à região de rejeição\n",
        "    if (chi2 <= X2L) or (chi2 >= X2R):\n",
        "      rejeicao = True\n",
        "\n",
        "  # Relatório de conclusão do teste de hipótese\n",
        "  if conclusao:\n",
        "    print(f'*** Teste de hipótese para {param} populacional ***')\n",
        "    print(f'Teste {tipo} com:')\n",
        "    print(f'Estatística de teste padronizada = {chi2:.4f}')\n",
        "    if isinstance(X20, tuple):\n",
        "      print(f'Valores chi-quadrado críticos X2L = {X20[0]:.4f} e X2R = {X20[1]:.4f}')\n",
        "    else:\n",
        "      print(f'Valor chi-quadrado crítico = {X20:.4f}')\n",
        "    if rejeicao:\n",
        "      print(f'Hipótese nula rejeitada ao nível de significância {alpha*100}%')\n",
        "    else:\n",
        "      print(f'Hipótese nula NÃO rejeitada ao nível de significância {alpha*100}%')\n",
        "  return chi2, X20"
      ],
      "metadata": {
        "id": "GHbbTyEu_7o7"
      },
      "execution_count": null,
      "outputs": []
    },
    {
      "cell_type": "markdown",
      "source": [
        "# **TTI109 - Estatística**\n",
        "# **Aula 16 - Teste de Hipótese para a Média 01**\n",
        "\n",
        "Nessa aula vamos aprender a:\n",
        "\n",
        "* Determinar o valor $p$ em um teste de hipótese, dependendo do tipo de teste (unilateral à esquerda, unilateral à direita ou bilateral);\n",
        "* Aplicar a regra de decisão para um teste de hipótese a partir do valor $p$;\n",
        "* Construir e avaliar um teste de hipótese sobre a média populacional $\\mu$ de uma distribuição, supondo que o desvio padrão populacional $\\sigma$ seja conhecido."
      ],
      "metadata": {
        "id": "U-8_9lUqE7Cv"
      }
    },
    {
      "cell_type": "markdown",
      "source": [
        "# Construindo uma função para o teste de hipótese da média ($\\sigma$ conhecido)\n",
        "\n",
        "![Aula16_01.png](data:image/png;base64,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)"
      ],
      "metadata": {
        "id": "ZN7r3wvPZoUp"
      }
    },
    {
      "cell_type": "code",
      "source": [
        "def TH_media_z(x_barra=None, n_amostras=None, mu=None,\n",
        "               sigma=None, alpha=0.05, teste='esquerda', conclusao=True):\n",
        "  '''Função para teste de hipótese da média populacional mu, com nível de\n",
        "  significância alpha, supondo desvio padrão populacional sigma conhecido.\n",
        "  ENTRADA:\n",
        "  - x_barra: média amostral\n",
        "  - n_amostras: número de amostras coletadas no experimento\n",
        "  - mu: hipótese nula para a média populacional\n",
        "  - sigma: desvio padrão populacional\n",
        "  - alpha: nível de significância adotado no teste (valor default 0.05)\n",
        "  - teste: string que identifica o tipo de teste a ser realizado: 'esquerda'\n",
        "  para teste unilateral à esquerda, 'direita', para teste unilateral à direita\n",
        "  e 'bilateral' para teste bilateral (valor default 'esquerda')\n",
        "  - conclusao: flag para ativação do relatório de conclusão do teste de hipótese\n",
        "  (valor default=True)\n",
        "  SAíDA:\n",
        "  - relatório de conclusão do teste de hipótese, caso cocnlusao=True\n",
        "  - p_valor: valor p do teste de hipótese'''\n",
        "\n",
        "  from scipy import stats as st\n",
        "\n",
        "  # Criação da distribuição amostral das médias\n",
        "  dist_amostras = st.norm(loc=mu, scale=sigma/n_amostras**0.5)\n",
        "\n",
        "  # Cálculo do p-valor, de acordo com o tipo de teste\n",
        "  if teste == 'esquerda':\n",
        "    p_valor = dist_amostras.cdf(x_barra)\n",
        "    tipo = 'unilateral à esquerda'\n",
        "  elif teste == 'direita':\n",
        "    p_valor = dist_amostras.sf(x_barra)\n",
        "    tipo = 'unilateral à direita'\n",
        "  elif teste == 'bilateral':\n",
        "    p_valor =  2*dist_amostras.cdf(x_barra)\n",
        "    tipo = 'bilateral'\n",
        "\n",
        "  # Relatório de conclusão do teste de hipótese\n",
        "  if conclusao:\n",
        "    print('*** Teste de hipótese para a média populacional (desvio padrão conhecido) ***')\n",
        "    print(f'Teste {tipo} com p-valor = {p_valor:.6f}')\n",
        "    if p_valor <= alpha:\n",
        "      print(f'Hipótese nula rejeitada ao nível de significância {alpha*100}%')\n",
        "    else:\n",
        "      print(f'Hipótese nula NÃO rejeitada ao nível de significância {alpha*100}%')\n",
        "  return p_valor"
      ],
      "metadata": {
        "id": "kQ3IkmI9Wrxx"
      },
      "execution_count": null,
      "outputs": []
    },
    {
      "cell_type": "markdown",
      "source": [
        "# Exercício 01 - Teste unilateral à esquerda\n",
        "\n",
        "Em corrida de carros, o *pit stop* é aonde um veículo vai para trocar pneus, abastecer, efetuar reparos e outros ajustes mecânicos. A eficiência de uma equipe que realiza esses ajustes pode afetar o resultado de uma corrida.\n",
        "\n",
        "Uma equipe afirma que seu tempo médio no *pit stop* (para 4 trocas de pneus e abastecimento) é menor que 13 segundos. Uma amostra aleatória de 32 tempos de *pit stop* tem uma média amostral de 12,9 segundos. Suponha que o desvio padrão populacional é de 0,19\n",
        "segundos. Há evidência suficiente para concordar com a afirmação para $\\alpha = 0,01$? Use um valor $p$."
      ],
      "metadata": {
        "id": "pzMz6G0paLui"
      }
    },
    {
      "cell_type": "code",
      "source": [
        "''' Construção do teste de hipótese:\n",
        "H0: mu >= 13 segundos\n",
        "Ha: mu < 13 segundos (afirmação)\n",
        "Tipo: unilateral à esquerda'''"
      ],
      "metadata": {
        "id": "wAiLmd7jNO0N"
      },
      "execution_count": null,
      "outputs": []
    },
    {
      "cell_type": "code",
      "source": [
        "# Uso da função TH_media_z\n",
        "p_valor = TH_media_z(x_barra=12.9, n_amostras=32, mu=13, sigma=0.19,\n",
        "                     alpha=0.01, teste='esquerda', conclusao=True)"
      ],
      "metadata": {
        "colab": {
          "base_uri": "https://localhost:8080/"
        },
        "id": "vAR76CXlnWZ3",
        "outputId": "3319e186-e7e2-40cc-ca35-0e28d737f91e"
      },
      "execution_count": null,
      "outputs": [
        {
          "output_type": "stream",
          "name": "stdout",
          "text": [
            "*** Teste de hipótese para a média populacional (desvio padrão conhecido) ***\n",
            "Teste unilateral à esquerda com p-valor = 0.001454\n",
            "Hipótese nula rejeitada ao nível de significância 1.0%\n"
          ]
        }
      ]
    },
    {
      "cell_type": "code",
      "source": [
        "'''Conclusão: Há evidências estatísticas suficientes para corroborar a afirmação\n",
        "de que os pit-stops duram menos de 13 segundos.'''"
      ],
      "metadata": {
        "id": "MKWleSnVOaXN"
      },
      "execution_count": null,
      "outputs": []
    },
    {
      "cell_type": "markdown",
      "source": [
        "### Emulando um conjunto de dados para uso da função `ztest`\n",
        "\n",
        "Vamos resolver o novamente o Exercício 01, agora criando um conjunto de dados aleatórios com características similares àquelas fornecidas no enunciado.\n",
        "\n",
        "Nessa situação, o teste de hipótese da média populacional será realizado pela função `ztest` do módulo `statsmodels.stats.weightstats`."
      ],
      "metadata": {
        "id": "Xusnxvvhc745"
      }
    },
    {
      "cell_type": "code",
      "source": [
        "# Bibliotecas\n",
        "import numpy as np\n",
        "from numpy.random import randn\n",
        "from statsmodels.stats.weightstats import ztest"
      ],
      "metadata": {
        "id": "iYQ_ahK3PO-N"
      },
      "execution_count": null,
      "outputs": []
    },
    {
      "cell_type": "code",
      "source": [
        "# Caracterização da distribuição amostral das médias\n",
        "media_pit = 12.9\n",
        "std_pit = 0.19\n",
        "amostras = 32\n",
        "erro_padrao = std_pit/amostras**0.5\n",
        "\n",
        "# Nível de significância do teste\n",
        "alpha = 0.01\n",
        "\n",
        "# Média populacional a ser testada\n",
        "mu = 13"
      ],
      "metadata": {
        "id": "LdygOinqPTjU"
      },
      "execution_count": null,
      "outputs": []
    },
    {
      "cell_type": "code",
      "source": [
        "# Criação do conjunto de dados aleatórios\n",
        "data = std_pit*randn(amostras) + media_pit\n",
        "\n",
        "# Verificação das características desejadas\n",
        "print(f'Média amostral = {np.mean(data):.2f} segundos')\n",
        "print(f'Desvio padrão amostral = {np.std(data):.5f} segundos')"
      ],
      "metadata": {
        "colab": {
          "base_uri": "https://localhost:8080/"
        },
        "id": "EfQlCzYGPgt7",
        "outputId": "70709a94-590e-40e5-dae1-d944fb6f134c"
      },
      "execution_count": null,
      "outputs": [
        {
          "output_type": "stream",
          "name": "stdout",
          "text": [
            "Média amostral = 12.90 segundos\n",
            "Desvio padrão amostral = 0.18028 segundos\n"
          ]
        }
      ]
    },
    {
      "cell_type": "code",
      "source": [
        "# Teste de hipótese usando ztest\n",
        "z_score, p_valor= ztest(x1=data, x2=None, value=mu, alternative='smaller')\n",
        "print(f'Estatística padronizada: z = {z_score:.5f}')\n",
        "print(f'Valor p do teste de hipótese = {p_valor:.5f}')"
      ],
      "metadata": {
        "colab": {
          "base_uri": "https://localhost:8080/"
        },
        "id": "FlVMXiJtP4FW",
        "outputId": "ce55b975-f9d2-4eee-ceb1-fe72d6040bec"
      },
      "execution_count": null,
      "outputs": [
        {
          "output_type": "stream",
          "name": "stdout",
          "text": [
            "Estatística padronizada: z = -4.00340\n",
            "Valor p do teste de hipótese = 0.00003\n"
          ]
        }
      ]
    },
    {
      "cell_type": "code",
      "source": [
        "# Conclusão do teste\n",
        "if p_valor <= alpha:\n",
        "  print(f'Hipótese nula rejeitada ao nível de significância {alpha*100}%')\n",
        "else:\n",
        "  print(f'Hipótese nula NÃO rejeitada ao nível de significância {alpha*100}%')"
      ],
      "metadata": {
        "colab": {
          "base_uri": "https://localhost:8080/"
        },
        "id": "znnaYJExQI40",
        "outputId": "c37588d7-282d-43e3-8e74-d44fe88a108e"
      },
      "execution_count": null,
      "outputs": [
        {
          "output_type": "stream",
          "name": "stdout",
          "text": [
            "Hipótese nula rejeitada ao nível de significância 1.0%\n"
          ]
        }
      ]
    },
    {
      "cell_type": "markdown",
      "source": [
        "# Exercício 02 - Teste unilateral à direita\n",
        "\n",
        "Proprietários de casas afirmam que a velocidade média de veículos que passam por sua rua é maior que o limite de velocidade de 35 milhas por hora. Uma amostra aleatória de 100 automóveis tem uma média de\n",
        "velocidade de 36 milhas por hora. Suponha que o desvio padrão populacional é de 4 milhas por hora. Há evidência suficiente para apoiar a afirmação para $\\alpha = 0,05$? Use um valor $p$."
      ],
      "metadata": {
        "id": "wVRkKbZ_erUr"
      }
    },
    {
      "cell_type": "code",
      "source": [
        "''' Construção do teste de hipótese:\n",
        "H0: mu <= 35 milhas por hora\n",
        "Ha: mu > 35 milhas por hora (afirmação)\n",
        "Tipo: unilateral à direita'''"
      ],
      "metadata": {
        "id": "760j2AjKQwSs"
      },
      "execution_count": null,
      "outputs": []
    },
    {
      "cell_type": "code",
      "source": [
        "# Uso da função TH_media_z\n",
        "p_valor = TH_media_z(x_barra=36, n_amostras=100, mu=35, sigma=4,\n",
        "                     alpha=0.05, teste='direita', conclusao=True)"
      ],
      "metadata": {
        "colab": {
          "base_uri": "https://localhost:8080/"
        },
        "id": "lS7jzSocoFLA",
        "outputId": "4021afad-43a4-48b8-9fc3-bbfbd8e6f72f"
      },
      "execution_count": null,
      "outputs": [
        {
          "output_type": "stream",
          "name": "stdout",
          "text": [
            "*** Teste de hipótese para a média populacional (desvio padrão conhecido) ***\n",
            "Teste unilateral à direita com p-valor = 0.006210\n",
            "Hipótese nula rejeitada ao nível de significância 5.0%\n"
          ]
        }
      ]
    },
    {
      "cell_type": "code",
      "source": [
        "'''Conclusão: Há evidências estatísticas suficientes para corroborar a afirmação\n",
        "de que a velocidade média dos veículos é superior a 35 milhas por hora.'''"
      ],
      "metadata": {
        "id": "nf1RUq6zRqOU"
      },
      "execution_count": null,
      "outputs": []
    },
    {
      "cell_type": "markdown",
      "source": [
        "### Emulando um conjunto de dados para uso da função `ztest`\n",
        "\n",
        "Vamos resolver o novamente o Exercício 02, agora criando um conjunto de dados aleatórios com características similares àquelas fornecidas no enunciado.\n",
        "\n",
        "Nessa situação, o teste de hipótese da média populacional será realizado pela função `ztest` do módulo `statsmodels.stats.weightstats`."
      ],
      "metadata": {
        "id": "RWkUFyk9hym6"
      }
    },
    {
      "cell_type": "code",
      "source": [
        "# Caracterização da distribuição amostral das médias\n",
        "media_vel = 36\n",
        "std_vel = 4\n",
        "amostras = 100\n",
        "erro_padrao = std_vel/amostras**0.5\n",
        "\n",
        "# Nível de significância do teste\n",
        "alpha = 0.05\n",
        "\n",
        "# Média populacional a ser testada\n",
        "mu = 35"
      ],
      "metadata": {
        "id": "nHIz8zLLSSjD"
      },
      "execution_count": null,
      "outputs": []
    },
    {
      "cell_type": "code",
      "source": [
        "# Criação do conjunto de dados aleatórios\n",
        "data = std_vel*randn(amostras) + media_vel\n",
        "\n",
        "# Verificação das características desejadas\n",
        "print(f'Média amostral = {np.mean(data):.2f} mi/h')\n",
        "print(f'Desvio padrão amostral= {np.std(data):.5f} mi/h')"
      ],
      "metadata": {
        "colab": {
          "base_uri": "https://localhost:8080/"
        },
        "id": "Tq7i3i0VSaaL",
        "outputId": "35c82f27-e450-4eae-bbed-99a8ad9c55d8"
      },
      "execution_count": null,
      "outputs": [
        {
          "output_type": "stream",
          "name": "stdout",
          "text": [
            "Média amostral = 35.72 mi/h\n",
            "Desvio padrão amostral= 4.10183 mi/h\n"
          ]
        }
      ]
    },
    {
      "cell_type": "code",
      "source": [
        "# Teste de hipótese usando ztest\n",
        "z_score, p_valor= ztest(x1=data, x2=None, value=mu, alternative='larger')\n",
        "print(f'Estatística padronizada: z = {z_score:.5f}')\n",
        "print(f'Valor p do teste de hipótese = {p_valor:.5f}')"
      ],
      "metadata": {
        "colab": {
          "base_uri": "https://localhost:8080/"
        },
        "id": "-vB6mu7NqP4a",
        "outputId": "e7b955a7-7b19-42ac-c13f-9326623dd9fa"
      },
      "execution_count": null,
      "outputs": [
        {
          "output_type": "stream",
          "name": "stdout",
          "text": [
            "Estatística padronizada: z = 1.75114\n",
            "Valor p do teste de hipótese = 0.03996\n"
          ]
        }
      ]
    },
    {
      "cell_type": "code",
      "source": [
        "# Conclusão do teste\n",
        "if p_valor <= alpha:\n",
        "  print(f'Hipótese nula rejeitada ao nível de significância {alpha*100}%')\n",
        "else:\n",
        "  print(f'Hipótese nula NÃO rejeitada ao nível de significância {alpha*100}%')"
      ],
      "metadata": {
        "colab": {
          "base_uri": "https://localhost:8080/"
        },
        "id": "GPHFTUCZS6_0",
        "outputId": "e7b1dec4-bc37-46b3-ac91-7cb639336f96"
      },
      "execution_count": null,
      "outputs": [
        {
          "output_type": "stream",
          "name": "stdout",
          "text": [
            "Hipótese nula rejeitada ao nível de significância 5.0%\n"
          ]
        }
      ]
    },
    {
      "cell_type": "markdown",
      "source": [
        "# Exercício 03 - Teste bilateral\n",
        "\n",
        "De acordo com um estudo, o custo médio de uma cirurgia bariátrica (perda de peso) é de US$\\$$ 21.500. Você acha que essa informação está incorreta e então seleciona aleatoriamente 25 pacientes que realizaram a cirurgia e descobre que o custo médio de suas cirurgias é de US$\\$$ 20.695.\n",
        "\n",
        "De estudos anteriores, o desvio padrão populacional é conhecido, US$\\$$ 2.250, e a população é normalmente distribuída. Há evidência suficiente para concordar com a afirmação para $\\alpha = 0,05$? Use um valor\n",
        "$p$ (Adaptado de: *The American Journal of Managed Care*)."
      ],
      "metadata": {
        "id": "xC6J1oxSidmT"
      }
    },
    {
      "cell_type": "code",
      "source": [
        "''' Construção do teste de hipótese:\n",
        "H0: mu = 21500 dólares (afirmação)\n",
        "Ha: mu != 21500 dólares\n",
        "Tipo: bilateral'''"
      ],
      "metadata": {
        "id": "vmUkrqieTmPy"
      },
      "execution_count": null,
      "outputs": []
    },
    {
      "cell_type": "code",
      "source": [
        "# Uso da função TH_media_z\n",
        "p_valor = TH_media_z(x_barra=20695, n_amostras=25, mu=21500, sigma=2250,\n",
        "                     alpha=0.05, teste='bilateral', conclusao=True)"
      ],
      "metadata": {
        "colab": {
          "base_uri": "https://localhost:8080/"
        },
        "id": "rxWQiQg0oywo",
        "outputId": "9d7365dd-0fc8-4a77-8329-b468ccb83b10"
      },
      "execution_count": null,
      "outputs": [
        {
          "output_type": "stream",
          "name": "stdout",
          "text": [
            "*** Teste de hipótese para a média populacional (desvio padrão conhecido) ***\n",
            "Teste bilateral com p-valor = 0.073633\n",
            "Hipótese nula NÃO rejeitada ao nível de significância 5.0%\n"
          ]
        }
      ]
    },
    {
      "cell_type": "code",
      "source": [
        "'''Conclusão: Não há evidências estatísticas suficientes para refutar a afirmação\n",
        "de que o preço média da cirurgia bariátrica é de US$ 21.500,00.'''"
      ],
      "metadata": {
        "id": "FfpKkjRHUM5V"
      },
      "execution_count": null,
      "outputs": []
    },
    {
      "cell_type": "markdown",
      "source": [
        "### Emulando um conjunto de dados para uso da função `ztest`\n",
        "\n",
        "Vamos resolver o novamente o Exercício 03, agora criando um conjunto de dados aleatórios com características similares àquelas fornecidas no enunciado.\n",
        "\n",
        "Nessa situação, o teste de hipótese da média populacional será realizado pela função `ztest` do módulo `statsmodels.stats.weightstats`."
      ],
      "metadata": {
        "id": "qIp3T1j4kFOz"
      }
    },
    {
      "cell_type": "code",
      "source": [
        "# Caracterização da distribuição amostral das médias\n",
        "media_cirurgia = 20695\n",
        "std_cirurgia = 2250\n",
        "amostras = 25\n",
        "erro_padrao = std_cirurgia/amostras**0.5\n",
        "\n",
        "# Nível de significância do teste\n",
        "alpha = 0.05\n",
        "\n",
        "# Média populacional a ser testada\n",
        "mu = 21500"
      ],
      "metadata": {
        "id": "IJjQxWNLUpBD"
      },
      "execution_count": null,
      "outputs": []
    },
    {
      "cell_type": "code",
      "source": [
        "# Criação do conjunto de dados aleatórios\n",
        "data = std_cirurgia*randn(amostras) + media_cirurgia\n",
        "\n",
        "# Verificação das características desejadas\n",
        "print(f'Média amostral = {np.mean(data):.2f} dólares')\n",
        "print(f'Desvio padrão amostral = {np.std(data):.5f} dólares')"
      ],
      "metadata": {
        "colab": {
          "base_uri": "https://localhost:8080/"
        },
        "id": "x9mtWzkHUt8D",
        "outputId": "a2e8635d-ea39-4f04-8491-6a409f122366"
      },
      "execution_count": null,
      "outputs": [
        {
          "output_type": "stream",
          "name": "stdout",
          "text": [
            "Média amostral = 21020.26 dólares\n",
            "Desvio padrão amostral = 2439.46014 dólares\n"
          ]
        }
      ]
    },
    {
      "cell_type": "code",
      "source": [
        "# Teste de hipótese usando ztest\n",
        "z_score, p_valor= ztest(x1=data, x2=None, value=mu, alternative='two-sided')\n",
        "print(f'Estatística padronizada: z = {z_score:.5f}')\n",
        "print(f'Valor p do teste de hipótese = {p_valor:.5f}')"
      ],
      "metadata": {
        "colab": {
          "base_uri": "https://localhost:8080/"
        },
        "id": "9VHprpTxVEez",
        "outputId": "f0ca9a7d-46ea-4699-f0f1-243c019f4821"
      },
      "execution_count": null,
      "outputs": [
        {
          "output_type": "stream",
          "name": "stdout",
          "text": [
            "Estatística padronizada: z = -0.96341\n",
            "Valor p do teste de hipótese = 0.33534\n"
          ]
        }
      ]
    },
    {
      "cell_type": "code",
      "source": [
        "# Conclusão do teste\n",
        "if p_valor <= alpha:\n",
        "  print(f'Hipótese nula rejeitada ao nível de significância {alpha*100}%')\n",
        "else:\n",
        "  print(f'Hipótese nula NÃO rejeitada ao nível de significância {alpha*100}%')"
      ],
      "metadata": {
        "colab": {
          "base_uri": "https://localhost:8080/"
        },
        "id": "_Pa0TJiZrHJI",
        "outputId": "7e7d4d27-b07f-438f-81b2-96a0ea9d36ce"
      },
      "execution_count": null,
      "outputs": [
        {
          "output_type": "stream",
          "name": "stdout",
          "text": [
            "Hipótese nula NÃO rejeitada ao nível de significância 5.0%\n"
          ]
        }
      ]
    },
    {
      "cell_type": "markdown",
      "source": [
        "# Exercício 04 - Usando conjunto de dados\n",
        "\n",
        "O arquivo `bp.txt` registra os batimentos por minuto de uma amostra de pacientes (retirada de um contingente bem maior) antes e depois do consumo de um novo medicamento sob teste. Ao nível de significância de 5%, investigue a afirmação:\n",
        "\n",
        "\"O valor médio dos batimentos cardíacos por minuto de todos os participantes do estudo antes do consumo do novo medicamento é, no mínimo, de 146 batimentos\"."
      ],
      "metadata": {
        "id": "ODzSILXalDFc"
      }
    },
    {
      "cell_type": "code",
      "source": [
        "# Download do conjunto de dados - arquivo bp.txt\n",
        "%%capture\n",
        "!gdown --id 1cWhFCT8oK--moMtD80laDoGcIy8d87-9"
      ],
      "metadata": {
        "id": "19OpZGJ7Vc-b"
      },
      "execution_count": null,
      "outputs": []
    },
    {
      "cell_type": "code",
      "source": [
        "import pandas as pd\n",
        "# Importando os dados do arquivo bp.txt\n",
        "coracao = pd.read_csv('bp.txt', sep='\\t')\n",
        "# Checando as primeiras linhas dos dados\n",
        "display(coracao.head())"
      ],
      "metadata": {
        "colab": {
          "base_uri": "https://localhost:8080/",
          "height": 206
        },
        "id": "Vm00JuNHWFW0",
        "outputId": "8a24b5af-627e-499d-dcba-63e9213d8529"
      },
      "execution_count": null,
      "outputs": [
        {
          "output_type": "display_data",
          "data": {
            "text/plain": [
              "   patient_name patient_ sex patient_agegrp  patient_bp_before  \\\n",
              "0             1         Male          30-45                142   \n",
              "1             2         Male          30-45                163   \n",
              "2             3         Male          30-45                143   \n",
              "3             4         Male          30-45                153   \n",
              "4             5         Male          30-45                146   \n",
              "\n",
              "   patient_bp_after  \n",
              "0               153  \n",
              "1               170  \n",
              "2               168  \n",
              "3               142  \n",
              "4               141  "
            ],
            "text/html": [
              "\n",
              "  <div id=\"df-ea5b39ce-46a6-477a-a6d5-0e6f8449c94f\" class=\"colab-df-container\">\n",
              "    <div>\n",
              "<style scoped>\n",
              "    .dataframe tbody tr th:only-of-type {\n",
              "        vertical-align: middle;\n",
              "    }\n",
              "\n",
              "    .dataframe tbody tr th {\n",
              "        vertical-align: top;\n",
              "    }\n",
              "\n",
              "    .dataframe thead th {\n",
              "        text-align: right;\n",
              "    }\n",
              "</style>\n",
              "<table border=\"1\" class=\"dataframe\">\n",
              "  <thead>\n",
              "    <tr style=\"text-align: right;\">\n",
              "      <th></th>\n",
              "      <th>patient_name</th>\n",
              "      <th>patient_ sex</th>\n",
              "      <th>patient_agegrp</th>\n",
              "      <th>patient_bp_before</th>\n",
              "      <th>patient_bp_after</th>\n",
              "    </tr>\n",
              "  </thead>\n",
              "  <tbody>\n",
              "    <tr>\n",
              "      <th>0</th>\n",
              "      <td>1</td>\n",
              "      <td>Male</td>\n",
              "      <td>30-45</td>\n",
              "      <td>142</td>\n",
              "      <td>153</td>\n",
              "    </tr>\n",
              "    <tr>\n",
              "      <th>1</th>\n",
              "      <td>2</td>\n",
              "      <td>Male</td>\n",
              "      <td>30-45</td>\n",
              "      <td>163</td>\n",
              "      <td>170</td>\n",
              "    </tr>\n",
              "    <tr>\n",
              "      <th>2</th>\n",
              "      <td>3</td>\n",
              "      <td>Male</td>\n",
              "      <td>30-45</td>\n",
              "      <td>143</td>\n",
              "      <td>168</td>\n",
              "    </tr>\n",
              "    <tr>\n",
              "      <th>3</th>\n",
              "      <td>4</td>\n",
              "      <td>Male</td>\n",
              "      <td>30-45</td>\n",
              "      <td>153</td>\n",
              "      <td>142</td>\n",
              "    </tr>\n",
              "    <tr>\n",
              "      <th>4</th>\n",
              "      <td>5</td>\n",
              "      <td>Male</td>\n",
              "      <td>30-45</td>\n",
              "      <td>146</td>\n",
              "      <td>141</td>\n",
              "    </tr>\n",
              "  </tbody>\n",
              "</table>\n",
              "</div>\n",
              "    <div class=\"colab-df-buttons\">\n",
              "\n",
              "  <div class=\"colab-df-container\">\n",
              "    <button class=\"colab-df-convert\" onclick=\"convertToInteractive('df-ea5b39ce-46a6-477a-a6d5-0e6f8449c94f')\"\n",
              "            title=\"Convert this dataframe to an interactive table.\"\n",
              "            style=\"display:none;\">\n",
              "\n",
              "  <svg xmlns=\"http://www.w3.org/2000/svg\" height=\"24px\" viewBox=\"0 -960 960 960\">\n",
              "    <path d=\"M120-120v-720h720v720H120Zm60-500h600v-160H180v160Zm220 220h160v-160H400v160Zm0 220h160v-160H400v160ZM180-400h160v-160H180v160Zm440 0h160v-160H620v160ZM180-180h160v-160H180v160Zm440 0h160v-160H620v160Z\"/>\n",
              "  </svg>\n",
              "    </button>\n",
              "\n",
              "  <style>\n",
              "    .colab-df-container {\n",
              "      display:flex;\n",
              "      gap: 12px;\n",
              "    }\n",
              "\n",
              "    .colab-df-convert {\n",
              "      background-color: #E8F0FE;\n",
              "      border: none;\n",
              "      border-radius: 50%;\n",
              "      cursor: pointer;\n",
              "      display: none;\n",
              "      fill: #1967D2;\n",
              "      height: 32px;\n",
              "      padding: 0 0 0 0;\n",
              "      width: 32px;\n",
              "    }\n",
              "\n",
              "    .colab-df-convert:hover {\n",
              "      background-color: #E2EBFA;\n",
              "      box-shadow: 0px 1px 2px rgba(60, 64, 67, 0.3), 0px 1px 3px 1px rgba(60, 64, 67, 0.15);\n",
              "      fill: #174EA6;\n",
              "    }\n",
              "\n",
              "    .colab-df-buttons div {\n",
              "      margin-bottom: 4px;\n",
              "    }\n",
              "\n",
              "    [theme=dark] .colab-df-convert {\n",
              "      background-color: #3B4455;\n",
              "      fill: #D2E3FC;\n",
              "    }\n",
              "\n",
              "    [theme=dark] .colab-df-convert:hover {\n",
              "      background-color: #434B5C;\n",
              "      box-shadow: 0px 1px 3px 1px rgba(0, 0, 0, 0.15);\n",
              "      filter: drop-shadow(0px 1px 2px rgba(0, 0, 0, 0.3));\n",
              "      fill: #FFFFFF;\n",
              "    }\n",
              "  </style>\n",
              "\n",
              "    <script>\n",
              "      const buttonEl =\n",
              "        document.querySelector('#df-ea5b39ce-46a6-477a-a6d5-0e6f8449c94f button.colab-df-convert');\n",
              "      buttonEl.style.display =\n",
              "        google.colab.kernel.accessAllowed ? 'block' : 'none';\n",
              "\n",
              "      async function convertToInteractive(key) {\n",
              "        const element = document.querySelector('#df-ea5b39ce-46a6-477a-a6d5-0e6f8449c94f');\n",
              "        const dataTable =\n",
              "          await google.colab.kernel.invokeFunction('convertToInteractive',\n",
              "                                                    [key], {});\n",
              "        if (!dataTable) return;\n",
              "\n",
              "        const docLinkHtml = 'Like what you see? Visit the ' +\n",
              "          '<a target=\"_blank\" href=https://colab.research.google.com/notebooks/data_table.ipynb>data table notebook</a>'\n",
              "          + ' to learn more about interactive tables.';\n",
              "        element.innerHTML = '';\n",
              "        dataTable['output_type'] = 'display_data';\n",
              "        await google.colab.output.renderOutput(dataTable, element);\n",
              "        const docLink = document.createElement('div');\n",
              "        docLink.innerHTML = docLinkHtml;\n",
              "        element.appendChild(docLink);\n",
              "      }\n",
              "    </script>\n",
              "  </div>\n",
              "\n",
              "\n",
              "<div id=\"df-6c3d10be-39f5-4dc0-b944-0194b662b154\">\n",
              "  <button class=\"colab-df-quickchart\" onclick=\"quickchart('df-6c3d10be-39f5-4dc0-b944-0194b662b154')\"\n",
              "            title=\"Suggest charts.\"\n",
              "            style=\"display:none;\">\n",
              "\n",
              "<svg xmlns=\"http://www.w3.org/2000/svg\" height=\"24px\"viewBox=\"0 0 24 24\"\n",
              "     width=\"24px\">\n",
              "    <g>\n",
              "        <path d=\"M19 3H5c-1.1 0-2 .9-2 2v14c0 1.1.9 2 2 2h14c1.1 0 2-.9 2-2V5c0-1.1-.9-2-2-2zM9 17H7v-7h2v7zm4 0h-2V7h2v10zm4 0h-2v-4h2v4z\"/>\n",
              "    </g>\n",
              "</svg>\n",
              "  </button>\n",
              "\n",
              "<style>\n",
              "  .colab-df-quickchart {\n",
              "      --bg-color: #E8F0FE;\n",
              "      --fill-color: #1967D2;\n",
              "      --hover-bg-color: #E2EBFA;\n",
              "      --hover-fill-color: #174EA6;\n",
              "      --disabled-fill-color: #AAA;\n",
              "      --disabled-bg-color: #DDD;\n",
              "  }\n",
              "\n",
              "  [theme=dark] .colab-df-quickchart {\n",
              "      --bg-color: #3B4455;\n",
              "      --fill-color: #D2E3FC;\n",
              "      --hover-bg-color: #434B5C;\n",
              "      --hover-fill-color: #FFFFFF;\n",
              "      --disabled-bg-color: #3B4455;\n",
              "      --disabled-fill-color: #666;\n",
              "  }\n",
              "\n",
              "  .colab-df-quickchart {\n",
              "    background-color: var(--bg-color);\n",
              "    border: none;\n",
              "    border-radius: 50%;\n",
              "    cursor: pointer;\n",
              "    display: none;\n",
              "    fill: var(--fill-color);\n",
              "    height: 32px;\n",
              "    padding: 0;\n",
              "    width: 32px;\n",
              "  }\n",
              "\n",
              "  .colab-df-quickchart:hover {\n",
              "    background-color: var(--hover-bg-color);\n",
              "    box-shadow: 0 1px 2px rgba(60, 64, 67, 0.3), 0 1px 3px 1px rgba(60, 64, 67, 0.15);\n",
              "    fill: var(--button-hover-fill-color);\n",
              "  }\n",
              "\n",
              "  .colab-df-quickchart-complete:disabled,\n",
              "  .colab-df-quickchart-complete:disabled:hover {\n",
              "    background-color: var(--disabled-bg-color);\n",
              "    fill: var(--disabled-fill-color);\n",
              "    box-shadow: none;\n",
              "  }\n",
              "\n",
              "  .colab-df-spinner {\n",
              "    border: 2px solid var(--fill-color);\n",
              "    border-color: transparent;\n",
              "    border-bottom-color: var(--fill-color);\n",
              "    animation:\n",
              "      spin 1s steps(1) infinite;\n",
              "  }\n",
              "\n",
              "  @keyframes spin {\n",
              "    0% {\n",
              "      border-color: transparent;\n",
              "      border-bottom-color: var(--fill-color);\n",
              "      border-left-color: var(--fill-color);\n",
              "    }\n",
              "    20% {\n",
              "      border-color: transparent;\n",
              "      border-left-color: var(--fill-color);\n",
              "      border-top-color: var(--fill-color);\n",
              "    }\n",
              "    30% {\n",
              "      border-color: transparent;\n",
              "      border-left-color: var(--fill-color);\n",
              "      border-top-color: var(--fill-color);\n",
              "      border-right-color: var(--fill-color);\n",
              "    }\n",
              "    40% {\n",
              "      border-color: transparent;\n",
              "      border-right-color: var(--fill-color);\n",
              "      border-top-color: var(--fill-color);\n",
              "    }\n",
              "    60% {\n",
              "      border-color: transparent;\n",
              "      border-right-color: var(--fill-color);\n",
              "    }\n",
              "    80% {\n",
              "      border-color: transparent;\n",
              "      border-right-color: var(--fill-color);\n",
              "      border-bottom-color: var(--fill-color);\n",
              "    }\n",
              "    90% {\n",
              "      border-color: transparent;\n",
              "      border-bottom-color: var(--fill-color);\n",
              "    }\n",
              "  }\n",
              "</style>\n",
              "\n",
              "  <script>\n",
              "    async function quickchart(key) {\n",
              "      const quickchartButtonEl =\n",
              "        document.querySelector('#' + key + ' button');\n",
              "      quickchartButtonEl.disabled = true;  // To prevent multiple clicks.\n",
              "      quickchartButtonEl.classList.add('colab-df-spinner');\n",
              "      try {\n",
              "        const charts = await google.colab.kernel.invokeFunction(\n",
              "            'suggestCharts', [key], {});\n",
              "      } catch (error) {\n",
              "        console.error('Error during call to suggestCharts:', error);\n",
              "      }\n",
              "      quickchartButtonEl.classList.remove('colab-df-spinner');\n",
              "      quickchartButtonEl.classList.add('colab-df-quickchart-complete');\n",
              "    }\n",
              "    (() => {\n",
              "      let quickchartButtonEl =\n",
              "        document.querySelector('#df-6c3d10be-39f5-4dc0-b944-0194b662b154 button');\n",
              "      quickchartButtonEl.style.display =\n",
              "        google.colab.kernel.accessAllowed ? 'block' : 'none';\n",
              "    })();\n",
              "  </script>\n",
              "</div>\n",
              "    </div>\n",
              "  </div>\n"
            ]
          },
          "metadata": {}
        }
      ]
    },
    {
      "cell_type": "code",
      "source": [
        "''' Construção do teste de hipótese:\n",
        "H0: mu >= 146 bpm (afirmação)\n",
        "Ha: mu < 146 bpm\n",
        "Tipo: unilateral à esquerda'''"
      ],
      "metadata": {
        "id": "OReSN3IOWNhq"
      },
      "execution_count": null,
      "outputs": []
    },
    {
      "cell_type": "code",
      "source": [
        "# Uso da função TH_media_z\n",
        "p_valor = TH_media_z(x_barra=coracao['patient_bp_before'].mean(),\n",
        "                     n_amostras=len(coracao['patient_bp_before']),\n",
        "                     mu=146, sigma=coracao['patient_bp_before'].std(ddof=1),\n",
        "                     alpha=0.05, teste='esquerda', conclusao=True)"
      ],
      "metadata": {
        "colab": {
          "base_uri": "https://localhost:8080/"
        },
        "id": "Ub2hxNcWWhwy",
        "outputId": "c4f082e0-1330-4c06-bb3c-6fe8228ba95e"
      },
      "execution_count": null,
      "outputs": [
        {
          "output_type": "stream",
          "name": "stdout",
          "text": [
            "*** Teste de hipótese para a média populacional (desvio padrão conhecido) ***\n",
            "Teste unilateral à esquerda com p-valor = 1.000000\n",
            "Hipótese nula NÃO rejeitada ao nível de significância 5.0%\n"
          ]
        }
      ]
    },
    {
      "cell_type": "code",
      "source": [
        "'''Conclusão: Não há evidências estatísticas suficientes para refutar a afirmação\n",
        "de que o valor médio dos batimentos cardíacos por minuto dos participantes do\n",
        "estudo antes do consumo do novo medicamento é, no mínimo, de 146 batimentos.'''"
      ],
      "metadata": {
        "id": "uJ5ojL6PXOLE"
      },
      "execution_count": null,
      "outputs": []
    },
    {
      "cell_type": "code",
      "source": [
        "# Teste de hipótese usando a função ztest\n",
        "z_score, p_valor = ztest(x1=coracao['patient_bp_before'], x2=None,\n",
        "                         value=146, alternative='smaller')\n",
        "print(f'Estatística padronizada: z = {z_score:.5f}')\n",
        "print(f'Valor p do teste de hipótese = {p_valor:.5f}')"
      ],
      "metadata": {
        "colab": {
          "base_uri": "https://localhost:8080/"
        },
        "id": "K16bZCL0Q9KE",
        "outputId": "8afd3298-4612-440d-caa5-3eeac8beb8a8"
      },
      "execution_count": null,
      "outputs": [
        {
          "output_type": "stream",
          "name": "stdout",
          "text": [
            "Estatística padronizada: z = 4.96027\n",
            "Valor p do teste de hipótese = 1.00000\n"
          ]
        }
      ]
    },
    {
      "cell_type": "code",
      "source": [
        "# Conclusão do teste\n",
        "alpha = 0.05\n",
        "if p_valor <= alpha:\n",
        "  print(f'Hipótese nula rejeitada ao nível de significância {alpha*100}%')\n",
        "else:\n",
        "  print(f'Hipótese nula NÃO rejeitada ao nível de significância {alpha*100}%')"
      ],
      "metadata": {
        "colab": {
          "base_uri": "https://localhost:8080/"
        },
        "id": "QR4yw3UQX5wD",
        "outputId": "8f1b0588-e670-42b2-b84a-a2e3b065be46"
      },
      "execution_count": null,
      "outputs": [
        {
          "output_type": "stream",
          "name": "stdout",
          "text": [
            "Hipótese nula NÃO rejeitada ao nível de significância 5.0%\n"
          ]
        }
      ]
    },
    {
      "cell_type": "markdown",
      "source": [
        "# Exercício 05 - Usando conjunto de dados\n",
        "\n",
        "*Níveis de dióxido de nitrogênio.* Um cientista estima que o nível médio de dióxido de nitrogênio em Calgary é maior que 32 partes por bilhão. Você quer testar essa estimativa. Para isso, você determina os níveis\n",
        "de dióxido de nitrogênio em 34 dias selecionados aleatoriamente. Os resultados (em partes por bilhão) estão listados na tabela a seguir.\n",
        "\n",
        "![Aula16_02.png](data:image/png;base64,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)\n",
        "\n",
        "Suponha que o desvio\n",
        "padrão populacional é de 9 partes por bilhão. Para o\n",
        "nível de significância $\\alpha = 0,06$, você pode concordar com a estimativa do cientista? (Adaptado de: *Clean Air Strategic Alliance*)"
      ],
      "metadata": {
        "id": "NfsnDPd4lV08"
      }
    },
    {
      "cell_type": "code",
      "source": [
        "# Dados relativos aos níveis de dióxido de carbono\n",
        "NO2 = pd.Series([24, 36, 44, 35, 44, 34, 29, 40, 39, 43, 41, 32, 33, 29,\n",
        "                 29, 43, 25, 39, 25, 42, 29, 22, 22, 25, 14, 15, 14, 29,\n",
        "                 25, 27, 22, 24, 18, 17])"
      ],
      "metadata": {
        "id": "TEI3AnsWYJNJ"
      },
      "execution_count": null,
      "outputs": []
    },
    {
      "cell_type": "code",
      "source": [
        "''' Construção do teste de hipótese:\n",
        "H0: mu <= 32 ppb\n",
        "Ha: mu > 32 ppb (afirmação)\n",
        "Tipo: unilateral à direita'''"
      ],
      "metadata": {
        "id": "0fC6_Xk1YMwR"
      },
      "execution_count": null,
      "outputs": []
    },
    {
      "cell_type": "code",
      "source": [
        "# Uso da função TH_media_z\n",
        "p_valor = TH_media_z(x_barra=NO2.mean(), n_amostras=len(NO2),\n",
        "                     mu=32, sigma=9, alpha=0.06, teste='direita', conclusao=True)"
      ],
      "metadata": {
        "colab": {
          "base_uri": "https://localhost:8080/"
        },
        "id": "S-QqyC6hYvV5",
        "outputId": "d8a34c56-1cee-4ef6-9cce-db73175e9d88"
      },
      "execution_count": null,
      "outputs": [
        {
          "output_type": "stream",
          "name": "stdout",
          "text": [
            "*** Teste de hipótese para a média populacional (desvio padrão conhecido) ***\n",
            "Teste unilateral à direita com p-valor = 0.933886\n",
            "Hipótese nula NÃO rejeitada ao nível de significância 6.0%\n"
          ]
        }
      ]
    },
    {
      "cell_type": "code",
      "source": [
        "# Teste de hipótese usando a função ztest\n",
        "z_score, p_valor = ztest(x1=NO2, x2=None, value=32, alternative='larger')\n",
        "print(f'Estatística padronizada: z = {z_score:.5f}')\n",
        "print(f'Valor p do teste de hipótese = {p_valor:.5f}')"
      ],
      "metadata": {
        "colab": {
          "base_uri": "https://localhost:8080/"
        },
        "id": "WeX7s-y-m0rl",
        "outputId": "75209649-6328-49ff-9a16-2c65495eddf1"
      },
      "execution_count": null,
      "outputs": [
        {
          "output_type": "stream",
          "name": "stdout",
          "text": [
            "Estatística padronizada: z = -1.47840\n",
            "Valor p do teste de hipótese = 0.93035\n"
          ]
        }
      ]
    },
    {
      "cell_type": "code",
      "source": [
        "# Conclusão do teste\n",
        "alpha = 0.06\n",
        "if p_valor <= alpha:\n",
        "  print(f'Hipótese nula rejeitada ao nível de significância {alpha*100}%')\n",
        "else:\n",
        "  print(f'Hipótese nula NÃO rejeitada ao nível de significância {alpha*100}%')"
      ],
      "metadata": {
        "colab": {
          "base_uri": "https://localhost:8080/"
        },
        "id": "Vs4jyMH6YnNq",
        "outputId": "dc919b1f-adc6-441a-efea-339a32b58873"
      },
      "execution_count": null,
      "outputs": [
        {
          "output_type": "stream",
          "name": "stdout",
          "text": [
            "Hipótese nula NÃO rejeitada ao nível de significância 6.0%\n"
          ]
        }
      ]
    },
    {
      "cell_type": "markdown",
      "source": [
        "# **TTI109 - Estatística**\n",
        "# **Aula 17 - Teste de Hipótese para a Média 02**\n",
        "\n",
        "Nessa aula vamos aprender a:\n",
        "\n",
        "* Determinar e região de rejeição da hipótese nula e o correspondente valor crítico em um teste de hipótese, dependendo do tipo de teste (unilateral à esquerda, unilateral à direita ou bilateral);\n",
        "* Empregar o método das regiões de rejeição e valores críticos em um teste de hipótese.\n",
        "* Construir e avaliar um teste de hipótese sobre a média populacional $\\mu$ de uma distribuição, supondo que o desvio padrão populacional $\\sigma$ seja conhecido."
      ],
      "metadata": {
        "id": "8kYBtjXxVwQZ"
      }
    },
    {
      "cell_type": "markdown",
      "source": [
        "# Função `TH_media_z` para o teste de hipótese da média\n",
        "\n",
        "Desenvolvida na Aula 16, a função `TH_media_z` decide sobre a validade da hipótese nula ao comparar o p-valor da estatística de teste padronizada com o nível de significância do teste."
      ],
      "metadata": {
        "id": "76SnK0DvAzL5"
      }
    },
    {
      "cell_type": "code",
      "source": [
        "def TH_media_z(x_barra=None, n_amostras=None, mu=None,\n",
        "               sigma=None, alpha=0.05, teste='esquerda', conclusao=True):\n",
        "  '''Função para teste de hipótese da média populacional mu, com nível de\n",
        "  significância alpha, supondo desvio padrão populacional sigma conhecido.\n",
        "  ENTRADA:\n",
        "  - x_barra: média amostral\n",
        "  - n_amostras: número de amostras coletadas no experimento\n",
        "  - mu: hipótese nula para a média populacional\n",
        "  - sigma: desvio padrão populacional\n",
        "  - alpha: nível de significância adotado no teste (valor default 0.05)\n",
        "  - teste: string que identifica o tipo de teste a ser realizado: 'esquerda'\n",
        "  para teste unilateral à esquerda, 'direita', para teste unilateral à direita\n",
        "  e 'bilateral' para teste bilateral (valor default 'esquerda')\n",
        "  - conclusao: flag para ativação do relatório de conclusão do teste de hipótese\n",
        "  (valor default=True)\n",
        "  SAíDA:\n",
        "  - relatório de conclusão do teste de hipótese, caso cocnlusao=True\n",
        "  - p_valor: valor p do teste de hipótese'''\n",
        "\n",
        "  from scipy import stats as st\n",
        "\n",
        "  # Criação da distribuição amostral das médias\n",
        "  dist_amostras = st.norm(loc=mu, scale=sigma/n_amostras**0.5)\n",
        "\n",
        "  # Cálculo do p-valor, de acordo com o tipo de teste\n",
        "  if teste == 'esquerda':\n",
        "    p_valor = dist_amostras.cdf(x_barra)\n",
        "    tipo = 'unilateral à esquerda'\n",
        "  elif teste == 'direita':\n",
        "    p_valor = dist_amostras.sf(x_barra)\n",
        "    tipo = 'unilateral à direita'\n",
        "  elif teste == 'bilateral':\n",
        "    p_valor =  2*dist_amostras.cdf(x_barra)\n",
        "    tipo = 'bilateral'\n",
        "\n",
        "  # Relatório de conclusão do teste de hipótese\n",
        "  if conclusao:\n",
        "    print('*** Teste de hipótese para a média populacional (desvio padrão conhecido) ***')\n",
        "    print(f'Teste {tipo} com p-valor = {p_valor:.6f}')\n",
        "    if p_valor <= alpha:\n",
        "      print(f'Hipótese nula rejeitada ao nível de significância {alpha*100}%')\n",
        "    else:\n",
        "      print(f'Hipótese nula NÃO rejeitada ao nível de significância {alpha*100}%')\n",
        "  return p_valor"
      ],
      "metadata": {
        "id": "9dV1HbDgenZS"
      },
      "execution_count": null,
      "outputs": []
    },
    {
      "cell_type": "markdown",
      "source": [
        "# Função `TH_media_z_regiao` para o teste de hipótese da média\n",
        "\n",
        "A função `TH_media_z_regiao` decide sobre a validade da hipótese nula ao verificar se a estatística de teste padronizada está contida na região de rejeição do teste."
      ],
      "metadata": {
        "id": "GL5YT6wvBWza"
      }
    },
    {
      "cell_type": "code",
      "source": [
        "def TH_media_z_regiao(x_barra=None, n_amostras=None, mu=None,\n",
        "                      sigma=None, alpha=0.05, teste='esquerda', conclusao=True):\n",
        "  '''Função para teste de hipótese da média populacional mu, com nível de\n",
        "  significância alpha, supondo desvio padrão populacional sigma conhecido.\n",
        "  ENTRADA:\n",
        "  - x_barra: média amostral\n",
        "  - n_amostras: número de amostras coletadas no experimento\n",
        "  - mu: hipótese nula para a média populacional\n",
        "  - sigma: desvio padrão populacional\n",
        "  - alpha: nível de significância adotado no teste (valor default 0.05)\n",
        "  - teste: string que identifica o tipo de teste a ser realizado: 'esquerda'\n",
        "  para teste unilateral à esquerda, 'direita', para teste unilateral à direita\n",
        "  e 'bilateral' para teste bilateral (valor default 'esquerda')\n",
        "  - conclusao: flag para ativação do relatório de conclusão do teste de hipótese\n",
        "  (valor default=True)\n",
        "  SAíDA:\n",
        "  - relatório de conclusão do teste de hipótese, caso cocnlusao=True\n",
        "  - z0: valor z crítico do teste de hipótese (fronteira da região de rejeição)'''\n",
        "\n",
        "  from scipy import stats as st\n",
        "\n",
        "  # Criação da distribuição normal padrão\n",
        "  dist_padrao = st.norm(loc=0, scale=1)\n",
        "\n",
        "  # Cálculo da estatística de teste padronizada\n",
        "  z = (x_barra-mu)/(sigma/n_amostras**0.5)\n",
        "\n",
        "  # Hipótese nula inicialmente validada\n",
        "  rejeicao = False\n",
        "\n",
        "  # Cálculo do z crítico, de acordo com o tipo de teste\n",
        "  if teste == 'esquerda':\n",
        "    z0 = dist_padrao.ppf(alpha)\n",
        "    tipo = 'unilateral à esquerda'\n",
        "    # Decisão sobre pertinência de z à região de rejeição\n",
        "    if z <= z0:\n",
        "      rejeicao = True\n",
        "  elif teste == 'direita':\n",
        "    z0 = dist_padrao.ppf(1-alpha)\n",
        "    tipo = 'unilateral à direita'\n",
        "    # Decisão sobre pertinência de z à região de rejeição\n",
        "    if z >= z0:\n",
        "      rejeicao = True\n",
        "  elif teste == 'bilateral':\n",
        "    z0 = dist_padrao.ppf(alpha/2)\n",
        "    tipo = 'bilateral'\n",
        "    # Decisão sobre pertinência de z à região de rejeição\n",
        "    if (z <= z0) or (z >= -z0):\n",
        "      rejeicao = True\n",
        "\n",
        "  # Relatório de conclusão do teste de hipótese\n",
        "  if conclusao:\n",
        "     print('*** Teste de hipótese para a média populacional (desvio padrão conhecido) ***')\n",
        "     print(f'Teste {tipo} com z0 = {z0:.6f}')\n",
        "     if rejeicao:\n",
        "      print(f'Hipótese nula rejeitada ao nível de significância {alpha*100}%')\n",
        "     else:\n",
        "      print(f'Hipótese nula NÃO rejeitada ao nível de significância {alpha*100}%')\n",
        "  return z0"
      ],
      "metadata": {
        "id": "BYLsHjS3BphR"
      },
      "execution_count": null,
      "outputs": []
    },
    {
      "cell_type": "markdown",
      "source": [
        "# Exercício 01\n",
        "\n",
        "Funcionários de uma companhia de construção e mineração afirmam que o salário médio dos engenheiros mecânicos é menor que o de um de seus concorrentes, que é de $\\$$ 68.000. Uma amostra aleatória de 20 engenheiros mecânicos da companhia tem um salário médio de $\\$$ 66.900.\n",
        "\n",
        "Suponha que o desvio padrão da população é de $\\$$ 5.500 sendo esta normalmente distribuída. Para $\\alpha = 0,05$, teste a afirmação dos\n",
        "funcionários."
      ],
      "metadata": {
        "id": "l7dMdgDeervC"
      }
    },
    {
      "cell_type": "code",
      "source": [
        "''' Construção do teste de hipótese:\n",
        "H0: mu >= 68000 dólares\n",
        "Ha: mu < 68000 dólares\n",
        "Tipo: unilateral à esquerda'''"
      ],
      "metadata": {
        "id": "YrUbVmPRZiYG"
      },
      "execution_count": null,
      "outputs": []
    },
    {
      "cell_type": "code",
      "source": [
        "# Uso da função TH_media_z\n",
        "p_valor = TH_media_z(x_barra=66900, n_amostras=20, mu=68000,\n",
        "                     sigma=5500, alpha=0.05, teste='esquerda', conclusao=True)"
      ],
      "metadata": {
        "colab": {
          "base_uri": "https://localhost:8080/"
        },
        "id": "eoC-efzNaM3W",
        "outputId": "d8d99350-0e39-426d-9f51-2754fab42b36"
      },
      "execution_count": null,
      "outputs": [
        {
          "output_type": "stream",
          "name": "stdout",
          "text": [
            "*** Teste de hipótese para a média populacional (desvio padrão conhecido) ***\n",
            "Teste unilateral à esquerda com p-valor = 0.185547\n",
            "Hipótese nula NÃO rejeitada ao nível de significância 5.0%\n"
          ]
        }
      ]
    },
    {
      "cell_type": "code",
      "source": [
        "# Uso da função TH_media_z_região\n",
        "z0 = TH_media_z_regiao(x_barra=66900, n_amostras=20, mu=68000, sigma=5500,\n",
        "                        alpha=0.05, teste='esquerda', conclusao=True)"
      ],
      "metadata": {
        "colab": {
          "base_uri": "https://localhost:8080/"
        },
        "outputId": "77176181-9eaa-42da-beca-e6ade6794886",
        "id": "8mSOFy-oevb_"
      },
      "execution_count": null,
      "outputs": [
        {
          "output_type": "stream",
          "name": "stdout",
          "text": [
            "*** Teste de hipótese para a média populacional (desvio padrão conhecido) ***\n",
            "Teste unilateral à esquerda com z0 = -1.644854\n",
            "Hipótese nula NÃO rejeitada ao nível de significância 5.0%\n"
          ]
        }
      ]
    },
    {
      "cell_type": "code",
      "source": [
        "'''Conclusão: Não há evidência suficiente ao nível de significância de 5% para\n",
        "concordar com a afirmação dos funcionários de que o salário médio é menor que\n",
        "68000 dólares.'''"
      ],
      "metadata": {
        "id": "kgNj4mHmauYz"
      },
      "execution_count": null,
      "outputs": []
    },
    {
      "cell_type": "markdown",
      "source": [
        "# Exercício 02\n",
        "\n",
        "O presidente da companhia do Exercício 01 afirma que o dia de trabalho médio dos engenheiros mecânicos é menor que 8,5 horas. Uma amostra aleatória de 25 dos engenheiros mecânicos da companhia tem um dia de trabalho médio de 8,2 horas.\n",
        "\n",
        "Suponha que o desvio padrão populacional é de 0,5 hora e a população é normalmente distribuída. Para $\\alpha = 0,01$, teste a afirmação do presidente."
      ],
      "metadata": {
        "id": "9jAgdahnexQA"
      }
    },
    {
      "cell_type": "code",
      "source": [
        "''' Construção do teste de hipótese:\n",
        "H0: mu >= 8.5 h\n",
        "Ha: mu < 8.5 h (afirmação)\n",
        "Tipo: unilateral à esquerda'''"
      ],
      "metadata": {
        "id": "ZO1ugF-kbOs2"
      },
      "execution_count": null,
      "outputs": []
    },
    {
      "cell_type": "code",
      "source": [
        "# Uso da função TH_media_z\n",
        "p_valor = TH_media_z(x_barra=8.2, n_amostras=25, mu=8.5, sigma=0.5,\n",
        "                     alpha=0.01, teste='esquerda', conclusao=True)"
      ],
      "metadata": {
        "colab": {
          "base_uri": "https://localhost:8080/"
        },
        "id": "gnVWgkDxbdvI",
        "outputId": "f18fe1cc-6d1f-4ebe-da95-83112cbec6bf"
      },
      "execution_count": null,
      "outputs": [
        {
          "output_type": "stream",
          "name": "stdout",
          "text": [
            "*** Teste de hipótese para a média populacional (desvio padrão conhecido) ***\n",
            "Teste unilateral à esquerda com p-valor = 0.001350\n",
            "Hipótese nula rejeitada ao nível de significância 1.0%\n"
          ]
        }
      ]
    },
    {
      "cell_type": "code",
      "source": [
        "# Uso da função TH_media_z_regiao\n",
        "z0 = TH_media_z_regiao(x_barra=8.2, n_amostras=25, mu=8.5, sigma=0.5,\n",
        "                       alpha=0.01, teste='esquerda', conclusao=True)"
      ],
      "metadata": {
        "colab": {
          "base_uri": "https://localhost:8080/"
        },
        "id": "mTaY8M-mbwFs",
        "outputId": "303bfb7c-c3eb-41fd-e317-07ca8f548920"
      },
      "execution_count": null,
      "outputs": [
        {
          "output_type": "stream",
          "name": "stdout",
          "text": [
            "*** Teste de hipótese para a média populacional (desvio padrão conhecido) ***\n",
            "Teste unilateral à esquerda com z0 = -2.326348\n",
            "Hipótese nula rejeitada ao nível de significância 1.0%\n"
          ]
        }
      ]
    },
    {
      "cell_type": "code",
      "source": [
        "'''Conclusão: Há evidência suficiente ao nível de significância de 1% para\n",
        "concordar com a afirmação do presidente da companhia de que que o dia de\n",
        "trabalho médio dos engenheiros mecânicos é menor que 8,5 horas.'''"
      ],
      "metadata": {
        "id": "8E2uUsV-cLTz"
      },
      "execution_count": null,
      "outputs": []
    },
    {
      "cell_type": "markdown",
      "source": [
        "# Exercício 03\n",
        "\n",
        "Um pesquisador afirma que o custo médio anual para criar um filho (de 2 anos ou menos), nos Estados Unidos, é de US$\\$$ 13.960. Em uma amostra aleatória de famílias no país, o custo médio anual para\n",
        "criar um filho (2 anos de idade ou menos) é de US$\\$$ 13.725. A amostra consiste em 500 crianças.\n",
        "\n",
        "Suponha que o desvio padrão populacional é de US$\\$$ 2.345. Para $\\alpha = 0,10$, há evidência suficiente para rejeitar a\n",
        "afirmação? (Adaptado de *U.S. Department of Agriculture Center for\n",
        "Nutrition Policy and Promotion*)"
      ],
      "metadata": {
        "id": "p2Z7ZE_-e3do"
      }
    },
    {
      "cell_type": "code",
      "source": [
        "''' Construção do teste de hipótese:\n",
        "H0: mu = 13960 dólares (afirmação)\n",
        "Ha: mu != 13690 dólares\n",
        "Tipo: bilateral'''"
      ],
      "metadata": {
        "id": "9IGObCMHellT"
      },
      "execution_count": null,
      "outputs": []
    },
    {
      "cell_type": "code",
      "source": [
        "# Uso da função TH_media_z\n",
        "p_valor = TH_media_z(x_barra=13725, n_amostras=500, mu=13960, sigma=2345,\n",
        "                     alpha=0.1, teste='bilateral', conclusao=True)"
      ],
      "metadata": {
        "colab": {
          "base_uri": "https://localhost:8080/"
        },
        "id": "kj3jymIFe4Lb",
        "outputId": "3d949ef1-cfa6-4baa-fccd-fb0311ab2bb6"
      },
      "execution_count": null,
      "outputs": [
        {
          "output_type": "stream",
          "name": "stdout",
          "text": [
            "*** Teste de hipótese para a média populacional (desvio padrão conhecido) ***\n",
            "Teste bilateral com p-valor = 0.025037\n",
            "Hipótese nula rejeitada ao nível de significância 10.0%\n"
          ]
        }
      ]
    },
    {
      "cell_type": "code",
      "source": [
        "# Uso da função TH_media_z_regiao\n",
        "z0 = TH_media_z_regiao(x_barra=13725, n_amostras=500, mu=13960, sigma=2345,\n",
        "                       alpha=0.1, teste='bilateral', conclusao=True)"
      ],
      "metadata": {
        "colab": {
          "base_uri": "https://localhost:8080/"
        },
        "id": "53yHoPU7fItl",
        "outputId": "707de15b-64a6-4f4f-933e-b845db44bb60"
      },
      "execution_count": null,
      "outputs": [
        {
          "output_type": "stream",
          "name": "stdout",
          "text": [
            "*** Teste de hipótese para a média populacional (desvio padrão conhecido) ***\n",
            "Teste bilateral com z0 = -1.644854\n",
            "Hipótese nula rejeitada ao nível de significância 10.0%\n"
          ]
        }
      ]
    },
    {
      "cell_type": "code",
      "source": [
        "'''Conclusão: Há evidência suficiente ao nível de significância de 10% para\n",
        "refutar a afirmação de que o custo médio anual para criar um filho\n",
        "(de 2 anos ou menos), nos Estados Unidos, é de US$ 13.960.'''"
      ],
      "metadata": {
        "id": "VfO8EmtffYqs"
      },
      "execution_count": null,
      "outputs": []
    },
    {
      "cell_type": "markdown",
      "source": [
        "# Exercício 04\n",
        "\n",
        "A associação de Informação de Energia dos Estados Unidos afirma que o consumo médio mensal residencial de eletricidade em sua cidade é superior a 874 kWh. Você quer testar essa afirmação e reune uma amostra aleatória de 64 consumidores residenciais, com consumo médio mensal de eletricidade de 905 kWh.\n",
        "\n",
        "Suponha que o desvio padrão populacional é de 125 kWh. Considerando nível de significância de 0,05, você tem evidência suficiente para apoiar afirmação da associação? (Adaptado de: *U.S. Energy Information Association*)"
      ],
      "metadata": {
        "id": "26HZ2veTe7qm"
      }
    },
    {
      "cell_type": "code",
      "source": [
        "''' Construção do teste de hipótese:\n",
        "H0: mu <= 874 kWh\n",
        "Ha: mu > 874 kWh (afirmação)\n",
        "Tipo: unilateral à direita'''"
      ],
      "metadata": {
        "id": "t7p6Tivdf7BM"
      },
      "execution_count": null,
      "outputs": []
    },
    {
      "cell_type": "code",
      "source": [
        "# Uso da função TH_media_z\n",
        "p_valor = TH_media_z(x_barra=905, n_amostras=64, mu=874, sigma=125,\n",
        "                     alpha=0.05, teste='direita', conclusao=True)"
      ],
      "metadata": {
        "colab": {
          "base_uri": "https://localhost:8080/"
        },
        "id": "UTnOIE3rgHay",
        "outputId": "571898ba-d2de-4385-cf4e-691cffb707de"
      },
      "execution_count": null,
      "outputs": [
        {
          "output_type": "stream",
          "name": "stdout",
          "text": [
            "*** Teste de hipótese para a média populacional (desvio padrão conhecido) ***\n",
            "Teste unilateral à direita com p-valor = 0.023628\n",
            "Hipótese nula rejeitada ao nível de significância 5.0%\n"
          ]
        }
      ]
    },
    {
      "cell_type": "code",
      "source": [
        "# Uso da função TH_media_z_regiao\n",
        "z0 = TH_media_z_regiao(x_barra=905, n_amostras=64, mu=874, sigma=125,\n",
        "                       alpha=0.05, teste='direita', conclusao=True)"
      ],
      "metadata": {
        "colab": {
          "base_uri": "https://localhost:8080/"
        },
        "id": "icp-4sSUgcuE",
        "outputId": "37b0a6f9-79f0-490f-9626-f6b951665353"
      },
      "execution_count": null,
      "outputs": [
        {
          "output_type": "stream",
          "name": "stdout",
          "text": [
            "*** Teste de hipótese para a média populacional (desvio padrão conhecido) ***\n",
            "Teste unilateral à direita com z0 = 1.644854\n",
            "Hipótese nula rejeitada ao nível de significância 5.0%\n"
          ]
        }
      ]
    },
    {
      "cell_type": "code",
      "source": [
        "'''Conclusão: Há evidência suficiente ao nível de significância de 5% para\n",
        "confirmar a afirmação de que o consumo médio mensal residencial de eletricidade\n",
        "é superior a 874 kWh'''"
      ],
      "metadata": {
        "id": "EjEaby9WgnsG"
      },
      "execution_count": null,
      "outputs": []
    },
    {
      "cell_type": "markdown",
      "source": [
        "# Exercício 05 - Usando conjunto de dados\n",
        "\n",
        "*Lâmpadas fluorescentes.* Um fabricante de lâmpadas\n",
        "fluorescentes garante que a vida útil média de\n",
        "certo tipo de lâmpada é de pelo menos 10.000 horas.\n",
        "Você quer testar essa garantia. Para fazer isso, você\n",
        "registra as vidas de uma amostra aleatória de 32 lâmpadas fluorescentes. Os resultados (em horas) estão\n",
        "listados a seguir.\n",
        "\n",
        "![Aula 17-01.png](data:image/png;base64,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)\n",
        "\n",
        "Suponha que o desvio padrão populacional é de 1.850 horas. Para o nível de significância $\\alpha = 0,09$,\n",
        "você tem evidência suficiente para rejeitar a afirmação\n",
        "do fabricante?"
      ],
      "metadata": {
        "id": "QZ782_7efCiw"
      }
    },
    {
      "cell_type": "code",
      "source": [
        "# Bibliotecas\n",
        "from statsmodels.stats.weightstats import ztest\n",
        "import pandas as pd"
      ],
      "metadata": {
        "id": "Gt29z96vhLft"
      },
      "execution_count": null,
      "outputs": []
    },
    {
      "cell_type": "code",
      "source": [
        "# Dados relativos à vida útil de lâmpadas fluorescentes\n",
        "lamps = pd.Series([8800, 9155, 13001, 10250, 10002, 11413, 8234, 10402,\n",
        "                   10016, 8015, 6110, 11005, 9254, 6991, 12006,\n",
        "                   10420, 8302, 8151, 10980, 10186, 10003, 8814, 11445,\n",
        "                   6277, 8632, 7265, 10584, 9397, 11987, 7556, 10380])"
      ],
      "metadata": {
        "id": "mbeS6ofshQ_F"
      },
      "execution_count": null,
      "outputs": []
    },
    {
      "cell_type": "code",
      "source": [
        "''' Construção do teste de hipótese:\n",
        "H0: mu >= 10000 horas (afirmação)\n",
        "Ha: mu < 10000 horas\n",
        "Tipo: unilateral à esquerda'''"
      ],
      "metadata": {
        "id": "sE0z9Eq_hTd1"
      },
      "execution_count": null,
      "outputs": []
    },
    {
      "cell_type": "code",
      "source": [
        "# Nível de significância\n",
        "alpha = 0.09\n",
        "\n",
        "# Teste de hipótese usando a função ztest\n",
        "z_score, p_valor = ztest(x1=lamps, x2=None, value=10000, alternative='smaller')\n",
        "print(f'Estatística padronizada: z = {z_score:.5f}')\n",
        "print(f'Valor p do teste = {p_valor:.5f}')"
      ],
      "metadata": {
        "colab": {
          "base_uri": "https://localhost:8080/"
        },
        "id": "veHxoDwnh3JO",
        "outputId": "28d35619-0733-4fe4-8d7d-c16472c8e431"
      },
      "execution_count": null,
      "outputs": [
        {
          "output_type": "stream",
          "name": "stdout",
          "text": [
            "Estatística padronizada: z = -1.57007\n",
            "Valor p do teste = 0.05820\n"
          ]
        }
      ]
    },
    {
      "cell_type": "code",
      "source": [
        "# Conclusão do teste\n",
        "if p_valor <= alpha:\n",
        "  print(f'Hipótese nula rejeitada ao nível de significância {alpha*100}%')\n",
        "else:\n",
        "  print(f'Hipótese nula NÃO rejeitada ao nível de significância {alpha*100}%')"
      ],
      "metadata": {
        "colab": {
          "base_uri": "https://localhost:8080/"
        },
        "id": "JhdHZUtSh9N8",
        "outputId": "e18dcf37-e9a1-40cb-de20-dd7e61e331ae"
      },
      "execution_count": null,
      "outputs": [
        {
          "output_type": "stream",
          "name": "stdout",
          "text": [
            "Hipótese nula rejeitada ao nível de significância 9.0%\n"
          ]
        }
      ]
    },
    {
      "cell_type": "code",
      "source": [
        "# Uso da função TH_media_z\n",
        "p_valor = TH_media_z(x_barra=lamps.mean(), n_amostras=len(lamps), mu=10000,\n",
        "                     sigma=1850, alpha=0.09, teste='esquerda', conclusao=True)"
      ],
      "metadata": {
        "colab": {
          "base_uri": "https://localhost:8080/"
        },
        "id": "xxpmOQWUiBnr",
        "outputId": "f8803eed-001d-4aa1-ad9a-0a1d49ec04be"
      },
      "execution_count": null,
      "outputs": [
        {
          "output_type": "stream",
          "name": "stdout",
          "text": [
            "*** Teste de hipótese para a média populacional (desvio padrão conhecido) ***\n",
            "Teste unilateral à esquerda com p-valor = 0.073104\n",
            "Hipótese nula rejeitada ao nível de significância 9.0%\n"
          ]
        }
      ]
    },
    {
      "cell_type": "code",
      "source": [
        "# Uso da função TH_media_z_regiao\n",
        "z0 = TH_media_z_regiao(x_barra=lamps.mean(), n_amostras=len(lamps), mu=10000,\n",
        "                       sigma=1850, alpha=0.09, teste='esquerda', conclusao=True)"
      ],
      "metadata": {
        "colab": {
          "base_uri": "https://localhost:8080/"
        },
        "id": "nZ-2AMXoiZUb",
        "outputId": "3f145fb0-5b99-4dc7-e66e-a96c02340214"
      },
      "execution_count": null,
      "outputs": [
        {
          "output_type": "stream",
          "name": "stdout",
          "text": [
            "*** Teste de hipótese para a média populacional (desvio padrão conhecido) ***\n",
            "Teste unilateral à esquerda com z0 = -1.340755\n",
            "Hipótese nula rejeitada ao nível de significância 9.0%\n"
          ]
        }
      ]
    },
    {
      "cell_type": "code",
      "source": [
        "'''Conclusão: Há evidência suficiente ao nível de significância de 9% para\n",
        "refutar a afirmação de que a vida útil média das lâmpada é de pelo menos\n",
        "10.000 horas'''"
      ],
      "metadata": {
        "id": "X07-dBPuirrU"
      },
      "execution_count": null,
      "outputs": []
    },
    {
      "cell_type": "markdown",
      "source": [
        "# **TTI109 - Estatística**\n",
        "# **Aula 18 - Teste de Hipótese para a Média 03**\n",
        "\n",
        "Nessa aula vamos aprender a:\n",
        "\n",
        "* Determinar a região de rejeição da hipótese nula e o correspondente valor crítico da distribuição $t$ em um teste de hipótese, dependendo do tipo de teste (unilateral à esquerda, unilateral à direita ou bilateral);\n",
        "* Avaliar as situações em que é possível testar a média populacional sem o conhecimento do desvio padrão, a saber: a população tem distribuição normal ou a amostra coletada tem mais de 30 indivíduos;\n",
        "* Construir e avaliar um teste de hipótese sobre a média populacional $\\mu$ de uma distribuição em que o desvio padrão populacional $\\sigma$ não é conhecido."
      ],
      "metadata": {
        "id": "u4jkfC6IS27I"
      }
    },
    {
      "cell_type": "markdown",
      "source": [
        "# Valores críticos em uma distribuição *t*\n",
        "\n",
        "**(a)** Encontre o valor crítico $t_0$ para um teste unilateral à esquerda com\n",
        "$\\alpha = 0,05$ e $n = 21$."
      ],
      "metadata": {
        "id": "jb6aCKWmqp3G"
      }
    },
    {
      "cell_type": "code",
      "source": [
        "# Biblioteca\n",
        "import scipy.stats as st"
      ],
      "metadata": {
        "id": "SYknzdlxUlHe"
      },
      "execution_count": null,
      "outputs": []
    },
    {
      "cell_type": "code",
      "source": [
        "alpha, n = 0.05, 21\n",
        "dist_t = st.t(df=n-1)\n",
        "t0 = dist_t.ppf(alpha)\n",
        "print(f'Teste unilateral à esquerda com alpha = {alpha*100}%')\n",
        "print(f'Valor crítico t0 = {t0:.5f}')"
      ],
      "metadata": {
        "colab": {
          "base_uri": "https://localhost:8080/"
        },
        "id": "W3DB1MzmUuvu",
        "outputId": "49739af6-b552-4569-9318-eb92be1525ff"
      },
      "execution_count": null,
      "outputs": [
        {
          "output_type": "stream",
          "name": "stdout",
          "text": [
            "Teste unilateral à esquerda com alpha = 5.0%\n",
            "Valor crítico t0 = -1.72472\n"
          ]
        }
      ]
    },
    {
      "cell_type": "markdown",
      "source": [
        "**(b)** Encontre o valor crítico $t_0$ para um teste unilateral à direita com\n",
        "$\\alpha = 0,01$ e $n = 17$."
      ],
      "metadata": {
        "id": "xRcRgM4MVApl"
      }
    },
    {
      "cell_type": "code",
      "source": [
        "alpha, n = 0.01, 17\n",
        "dist_t = st.t(df=n-1)\n",
        "t0 = dist_t.ppf(1-alpha)\n",
        "print(f'Teste unilateral à direita com alpha = {alpha*100}%')\n",
        "print(f'Valor crítico t0 = {t0:.5f}')"
      ],
      "metadata": {
        "colab": {
          "base_uri": "https://localhost:8080/"
        },
        "id": "oIgkHvFTVCLG",
        "outputId": "73291b7e-88b3-494e-dc8a-267fb4190c45"
      },
      "execution_count": null,
      "outputs": [
        {
          "output_type": "stream",
          "name": "stdout",
          "text": [
            "Teste unilateral à direita com alpha = 1.0%\n",
            "Valor crítico t0 = 2.58349\n"
          ]
        }
      ]
    },
    {
      "cell_type": "markdown",
      "source": [
        "**(c)** Encontre os valores críticos $–t_0$ e $t_0$ para um teste bilateral com\n",
        "$\\alpha = 0,10$ e $n = 26$."
      ],
      "metadata": {
        "id": "GoPGSlu4UtYX"
      }
    },
    {
      "cell_type": "code",
      "source": [
        "alpha, n = 0.10, 26\n",
        "dist_t = st.t(df=n-1)\n",
        "t0 = dist_t.ppf(alpha/2)\n",
        "print(f'Teste bilateral com alpha = {alpha*100}%')\n",
        "print(f'Valores críticos -t0 = {-t0:.5f} e t0 = {t0:.5f}')"
      ],
      "metadata": {
        "colab": {
          "base_uri": "https://localhost:8080/"
        },
        "id": "YM7h-sUirObO",
        "outputId": "758405d6-b47e-4e35-9446-6af739856659"
      },
      "execution_count": null,
      "outputs": [
        {
          "output_type": "stream",
          "name": "stdout",
          "text": [
            "Teste bilateral com alpha = 10.0%\n",
            "Valores críticos -t0 = 1.70814 e t0 = -1.70814\n"
          ]
        }
      ]
    },
    {
      "cell_type": "markdown",
      "source": [
        "# Função `TH_media_t` para o teste de hipótese da média\n",
        "\n",
        "A função `TH_media_t` decide sobre a validade da hipótese nula ao comparar o p-valor da estatística de teste padronizada com o nível de significância do teste."
      ],
      "metadata": {
        "id": "7M6E4Xd5xJux"
      }
    },
    {
      "cell_type": "code",
      "source": [
        "def TH_media_t(x_barra=None, n_amostras=None, mu=None, s=None,\n",
        "               alpha=0.05, teste='esquerda', conclusao=True):\n",
        "  '''Função para teste de hipótese da média mu, com nível de significância\n",
        "     alpha, supondo desvio padrão populacional sigma desconhecido.\n",
        "     ENTRADA:\n",
        "     - x_barra: média amostral\n",
        "     - n_amostras: número de amostras coletadas no experimento\n",
        "     - mu: hipótese nula para a média populacional\n",
        "     - s: desvio padrão amostral\n",
        "     - alpha: nível de significância adotado no teste (valor default 0.05)\n",
        "     - teste: string que identifica o tipo de teste a ser realizado: 'esquerda'\n",
        "     para teste unilateral à esquerda, 'direita', para teste unilateral à direita\n",
        "     e 'bilateral' para teste bilateral (valor default 'esquerda')\n",
        "     - conclusao: flag para ativação do relatório de conclusão do teste de hipótese\n",
        "     (valor default=True)\n",
        "     SAÍDA:\n",
        "     - relatório de conclusão do teste de hipótese, caso cocnlusao=True\n",
        "     - t0: valor crítico do teste de hipótese'''\n",
        "\n",
        "  from scipy import stats as st\n",
        "\n",
        "  # Criação da distribuição t\n",
        "  dist_t = st.t(df=n_amostras-1)\n",
        "\n",
        "  # Cálculo da estatística de teste padronizada\n",
        "  t = (x_barra-mu)/(s/n_amostras**0.5)\n",
        "\n",
        "  # Hipótese nula inicialmente validada\n",
        "  rejeicao = False\n",
        "\n",
        "  # Cálculo do t crítico (t0), de acordo com o tipo de teste\n",
        "  if teste == 'esquerda':\n",
        "    t0 = dist_t.ppf(alpha)\n",
        "    tipo = 'unilateral à esquerda'\n",
        "    # Decisão sobre pertinência de t à região de rejeição\n",
        "    if t <= t0:\n",
        "      rejeicao = True\n",
        "  elif teste == 'direita':\n",
        "    t0 = dist_t.ppf(1-alpha)\n",
        "    tipo = 'unilateral à direita'\n",
        "    # Decisão sobre pertinência de t à região de rejeição\n",
        "    if t >= t0:\n",
        "      rejeicao = True\n",
        "  elif teste == 'bilateral':\n",
        "    t0 = dist_t.ppf(alpha/2)\n",
        "    tipo = 'bilateral'\n",
        "    # Decisão sobre pertinência de t à região de rejeição\n",
        "    if (t <= t0) or (t >= -t0):\n",
        "      rejeicao = True\n",
        "\n",
        "  # Relatório de conclusão do teste de hipótese\n",
        "  if conclusao:\n",
        "    print('*** Teste de hipótese para a média populacional (desvio padrão desconhecido) ***')\n",
        "    print(f'Teste {tipo} com t0 = {t0:.5f}')\n",
        "    if rejeicao:\n",
        "      print(f'Hipótese nula rejeitada ao nível de significância {alpha*100}%')\n",
        "    else:\n",
        "      print(f'Hipótese nula NÃO rejeitada ao nível de significância {alpha*100}%')\n",
        "  return t0"
      ],
      "metadata": {
        "id": "sT2M4OZTxIix"
      },
      "execution_count": null,
      "outputs": []
    },
    {
      "cell_type": "markdown",
      "source": [
        "# Exercício 01 - Teste unilateral à esquerda\n",
        "\n",
        "Um vendedor de carros usados diz que o preço médio do sedan de dois anos (em boas condições) é de pelo menos US$\\$$ 20.500. Você suspeita que essa afirmação é incorreta e descobre que uma amostra aleatória de 14 veículos similares tem um preço médio de US$\\$$ 19.850 e desvio padrão de US$\\$$ 1.084.\n",
        "\n",
        "Há evidência suficiente para rejeitar a afirmação do vendedor para o nível de significância a = 0,05? Suponha que a população é normalmente distribuída (Adaptado de: *Kelley Blue Book*)."
      ],
      "metadata": {
        "id": "xy47GVSQDG2L"
      }
    },
    {
      "cell_type": "code",
      "source": [
        "''' Construção do teste de hipótese:\n",
        "H0: mu >= 20500 dólares (afirmação)\n",
        "Ha: mu < 20500 dólares\n",
        "Tipo: unilateral à esquerda'''"
      ],
      "metadata": {
        "id": "eNJatkx5YwGP"
      },
      "execution_count": null,
      "outputs": []
    },
    {
      "cell_type": "code",
      "source": [
        "# Uso da função TH_media_t\n",
        "t0 = TH_media_t(x_barra=19850, n_amostras=14, mu=20500, s=1084,\n",
        "                alpha=0.05, teste='esquerda', conclusao=True)"
      ],
      "metadata": {
        "colab": {
          "base_uri": "https://localhost:8080/"
        },
        "id": "O9uMHh6FDtb1",
        "outputId": "99a58ce8-423f-455e-d39d-eb065e3b8f59"
      },
      "execution_count": null,
      "outputs": [
        {
          "output_type": "stream",
          "name": "stdout",
          "text": [
            "*** Teste de hipótese para a média populacional (desvio padrão desconhecido) ***\n",
            "Teste unilateral à esquerda com t0 = -1.77093\n",
            "Hipótese nula rejeitada ao nível de significância 5.0%\n"
          ]
        }
      ]
    },
    {
      "cell_type": "code",
      "source": [
        "'''Conclusão: Há evidência suficiente ao nível de significância de 5% para\n",
        "rejeitar a afirmação do vendedor de que o preço médio dos sedan é de pelo menos\n",
        "20500 dólares.'''"
      ],
      "metadata": {
        "id": "76ctAeJYaNFP"
      },
      "execution_count": null,
      "outputs": []
    },
    {
      "cell_type": "markdown",
      "source": [
        "### Emulando um conjunto de dados para uso da função `ttest_1samp`\n",
        "\n",
        "Vamos resolver o novamente o Exercício 01, agora criando um conjunto de dados aleatórios com características similares àquelas fornecidas no enunciado. O teste de hipótese será realizado pela função `ttest_1samp` do módulo `scipy.stats`.\n",
        "\n",
        "ATENÇÃO: A função `ttest_1samp` retorna a estatística padronizada `t` e o valor-p. Assim, podemos decidir sobre a hipótese nula usando a região de rejeição ou comparando o valor-p com a nível de significância $\\alpha$."
      ],
      "metadata": {
        "id": "3p4lGVixEhdG"
      }
    },
    {
      "cell_type": "code",
      "source": [
        "# Bibliotecas\n",
        "import numpy as np\n",
        "from numpy.random import randn"
      ],
      "metadata": {
        "id": "eRs7_gQ2Zo1F"
      },
      "execution_count": null,
      "outputs": []
    },
    {
      "cell_type": "code",
      "source": [
        "# Caracterização da distribuição amostral das médias\n",
        "media_preco = 19850\n",
        "std_preco = 1084\n",
        "amostras = 14\n",
        "erro_padrao = std_preco/amostras**0.5"
      ],
      "metadata": {
        "id": "dUDt2Zz4FWfw"
      },
      "execution_count": null,
      "outputs": []
    },
    {
      "cell_type": "code",
      "source": [
        "# Nível de significância do teste\n",
        "alpha = 0.05\n",
        "# Média populacional a ser testada\n",
        "mu = 20500"
      ],
      "metadata": {
        "id": "V5L1JL31Z4en"
      },
      "execution_count": null,
      "outputs": []
    },
    {
      "cell_type": "code",
      "source": [
        "# Criação do conjunto de dados aleatórios\n",
        "data = std_preco*randn(amostras) + media_preco\n",
        "# Verificação das características desejadas\n",
        "print(f'Média amostral = {np.mean(data):.2f} ; Desvio padrão = {np.std(data):.5f}')"
      ],
      "metadata": {
        "colab": {
          "base_uri": "https://localhost:8080/"
        },
        "id": "IjZvSkGpZ70v",
        "outputId": "91395282-d2bc-4e52-f6f5-29e75845a570"
      },
      "execution_count": null,
      "outputs": [
        {
          "output_type": "stream",
          "name": "stdout",
          "text": [
            "Média amostral = 19898.99 ; Desvio padrão = 1081.43957\n"
          ]
        }
      ]
    },
    {
      "cell_type": "code",
      "source": [
        "# Teste de hipótese usando ttest_1samp\n",
        "t0, p_valor = st.ttest_1samp(a=data, popmean=mu, alternative='less')\n",
        "# Conclusão do teste\n",
        "if p_valor <= alpha:\n",
        "  print(f'Hipótese nula rejeitada ao nível de significância {alpha*100}%')\n",
        "else:\n",
        "  print(f'Hipótese nula NÃO rejeitada ao nível de significância {alpha*100}%')"
      ],
      "metadata": {
        "colab": {
          "base_uri": "https://localhost:8080/"
        },
        "id": "CG2mJAipZ_s1",
        "outputId": "15259bde-6e8a-4dc0-989c-1a5324c9091b"
      },
      "execution_count": null,
      "outputs": [
        {
          "output_type": "stream",
          "name": "stdout",
          "text": [
            "Hipótese nula rejeitada ao nível de significância 5.0%\n"
          ]
        }
      ]
    },
    {
      "cell_type": "markdown",
      "source": [
        "# Exercício 02 - Teste unilateral à direita\n",
        "\n",
        "Um agente de seguros diz que o custo médio do seguro do sedan de dois anos (em boas condições) é maior que US$\\$$ 1.200. Uma amostra aleatória de 7 cotações de seguro similares tem um custo médio de US$\\$$ 1.275 e um desvio padrão de US$\\$$ 55.\n",
        "\n",
        "Há evidência suficiente para concordar com afirmação do agente considerando nível de significância de 0,10? Suponha que a população é normalmente distribuída."
      ],
      "metadata": {
        "id": "5ef_ciC2GRwZ"
      }
    },
    {
      "cell_type": "code",
      "source": [
        "''' Construção do teste de hipótese:\n",
        "H0: mu <= 1200 dólares\n",
        "Ha: mu > 1200 dólares (afirmação)\n",
        "Tipo: unilateral à direita'''"
      ],
      "metadata": {
        "id": "88bs_BtxajaV"
      },
      "execution_count": null,
      "outputs": []
    },
    {
      "cell_type": "code",
      "source": [
        "# Uso da função TH_media_t\n",
        "t0 = TH_media_t(x_barra=1275, n_amostras=7, mu=1200, s=55,\n",
        "                alpha=0.1, teste='direita', conclusao=True)"
      ],
      "metadata": {
        "colab": {
          "base_uri": "https://localhost:8080/"
        },
        "id": "du-sRS7ba5Q_",
        "outputId": "0e9f826c-afef-4657-c24f-53a489734bda"
      },
      "execution_count": null,
      "outputs": [
        {
          "output_type": "stream",
          "name": "stdout",
          "text": [
            "*** Teste de hipótese para a média populacional (desvio padrão desconhecido) ***\n",
            "Teste unilateral à direita com t0 = 1.43976\n",
            "Hipótese nula rejeitada ao nível de significância 10.0%\n"
          ]
        }
      ]
    },
    {
      "cell_type": "code",
      "source": [
        "'''Conclusão: Há evidência suficiente ao nível de significância de 10% para\n",
        "concordar com a afirmação do agente de que valor médio dos seguros dos sedans é\n",
        "maior do que 1200 dólares.'''"
      ],
      "metadata": {
        "id": "37hLdCTCbEQf"
      },
      "execution_count": null,
      "outputs": []
    },
    {
      "cell_type": "markdown",
      "source": [
        "### Emulando um conjunto de dados para uso da função `ttest_1samp`\n",
        "\n",
        "Vamos resolver o novamente o Exercício 02, agora criando um conjunto de dados aleatórios com características similares àquelas fornecidas no enunciado. O teste de hipótese será realizado pela função `ttest_1samp` do módulo `scipy.stats`."
      ],
      "metadata": {
        "id": "O4Qm2qh1HmRs"
      }
    },
    {
      "cell_type": "code",
      "source": [
        "# Caracterização da distribuição amostral das médias\n",
        "media_seguro = 1275\n",
        "std_seguro = 55\n",
        "amostras = 7\n",
        "erro_padrao = std_seguro/amostras**0.5"
      ],
      "metadata": {
        "id": "aVO06CySHs4L"
      },
      "execution_count": null,
      "outputs": []
    },
    {
      "cell_type": "code",
      "source": [
        "# Nível de significância do teste\n",
        "alpha = 0.1\n",
        "# Média populacional a ser testada\n",
        "mu = 1200"
      ],
      "metadata": {
        "id": "NkI_RU7rbtNP"
      },
      "execution_count": null,
      "outputs": []
    },
    {
      "cell_type": "code",
      "source": [
        "# Criação do conjunto de dados aleatórios\n",
        "data = std_seguro*randn(amostras) + media_seguro\n",
        "# Verificação das características desejadas\n",
        "print(f'Média amostral = {np.mean(data):.2f} ; Desvio padrão = {np.std(data):.5f}')"
      ],
      "metadata": {
        "colab": {
          "base_uri": "https://localhost:8080/"
        },
        "id": "2pWK_jINbwA-",
        "outputId": "bb833b2b-f23d-4b71-fb76-f9bdd9550454"
      },
      "execution_count": null,
      "outputs": [
        {
          "output_type": "stream",
          "name": "stdout",
          "text": [
            "Média amostral = 1294.17 ; Desvio padrão = 53.91064\n"
          ]
        }
      ]
    },
    {
      "cell_type": "code",
      "source": [
        "# Teste de hipótese usando ttest_1samp\n",
        "t0, p_valor = st.ttest_1samp(a=data, popmean=mu, alternative='greater')\n",
        "# Conclusão do teste\n",
        "if p_valor <= alpha:\n",
        "  print(f'Hipótese nula rejeitada ao nível de significância {alpha*100}%')\n",
        "else:\n",
        "  print(f'Hipótese nula NÃO rejeitada ao nível de significância {alpha*100}%')"
      ],
      "metadata": {
        "colab": {
          "base_uri": "https://localhost:8080/"
        },
        "id": "aHbdeK66bzm-",
        "outputId": "4f74c876-ee02-4300-984c-f3784ade61ff"
      },
      "execution_count": null,
      "outputs": [
        {
          "output_type": "stream",
          "name": "stdout",
          "text": [
            "Hipótese nula rejeitada ao nível de significância 10.0%\n"
          ]
        }
      ]
    },
    {
      "cell_type": "markdown",
      "source": [
        "# Exercício 03 - Teste bilateral\n",
        "\n",
        "Uma indústria afirma que o nível médio do pH da água em um rio próximo é de 6,8. Você seleciona aleatoriamente 39 amostras de água e mede o pH de cada uma. A média amostral e o desvio padrão são de 6,7 e 0,35, respectivamente.\n",
        "\n",
        "Há evidência suficiente para rejeitar a afirmação da indústria considerando nível de significância $\\alpha = 0,05$?"
      ],
      "metadata": {
        "id": "nmJk4IaMIezO"
      }
    },
    {
      "cell_type": "code",
      "source": [
        "''' Construção do teste de hipótese:\n",
        "H0: mu = 6.8 (afirmação)\n",
        "Ha: mu != 6.8\n",
        "Tipo: bilateral'''"
      ],
      "metadata": {
        "id": "T8ia4glzb_0G"
      },
      "execution_count": null,
      "outputs": []
    },
    {
      "cell_type": "code",
      "source": [
        "# Uso da função TH_media_t\n",
        "t0 = TH_media_t(x_barra=6.7, n_amostras=39, mu=6.8, s=0.35,\n",
        "                alpha=0.05, teste='bilateral', conclusao=True)"
      ],
      "metadata": {
        "colab": {
          "base_uri": "https://localhost:8080/"
        },
        "id": "5PPl1Lr2cNun",
        "outputId": "54a092f0-bdd0-4c4d-e9c3-81aded90d227"
      },
      "execution_count": null,
      "outputs": [
        {
          "output_type": "stream",
          "name": "stdout",
          "text": [
            "*** Teste de hipótese para a média populacional (desvio padrão desconhecido) ***\n",
            "Teste bilateral com t0 = -2.02439\n",
            "Hipótese nula NÃO rejeitada ao nível de significância 5.0%\n"
          ]
        }
      ]
    },
    {
      "cell_type": "code",
      "source": [
        "'''Conclusão: Não há evidência suficiente ao nível de significância de 5% para\n",
        "rejeitar a afirmação de que o pH médio da água do rio é de 6,8.'''"
      ],
      "metadata": {
        "id": "1HYCPMBmcbdV"
      },
      "execution_count": null,
      "outputs": []
    },
    {
      "cell_type": "markdown",
      "source": [
        "### Emulando um conjunto de dados para uso da função `ttest_1samp`\n",
        "\n",
        "Vamos resolver o novamente o Exercício 03, agora criando um conjunto de dados aleatórios com características similares àquelas fornecidas no enunciado. O teste de hipótese será realizado pela função `ttest_1samp` do módulo `scipy.stats`."
      ],
      "metadata": {
        "id": "0oACQvV4JUES"
      }
    },
    {
      "cell_type": "code",
      "source": [
        "# Caracterização da distribuição amostral das médias\n",
        "media_pH = 6.7\n",
        "std_pH = 0.35\n",
        "amostras = 39\n",
        "erro_padrao = std_pH/amostras**0.5"
      ],
      "metadata": {
        "id": "Hv59zbs0JWE6"
      },
      "execution_count": null,
      "outputs": []
    },
    {
      "cell_type": "code",
      "source": [
        "# Nível de significância do teste\n",
        "alpha = 0.05\n",
        "# Média populacional a ser testada\n",
        "mu = 6.8"
      ],
      "metadata": {
        "id": "Ifmah0_hc-Y-"
      },
      "execution_count": null,
      "outputs": []
    },
    {
      "cell_type": "code",
      "source": [
        "# Criação do conjunto de dados aleatórios\n",
        "data = std_pH*randn(amostras) + media_pH\n",
        "# Verificação das características desejadas\n",
        "print(f'Média amostral = {np.mean(data):.2f} ; Desvio padrão = {np.std(data):.5f}')"
      ],
      "metadata": {
        "colab": {
          "base_uri": "https://localhost:8080/"
        },
        "id": "VPOcVJR9dBeW",
        "outputId": "7eda2665-7ee9-4f2e-9ca9-44086f0f7539"
      },
      "execution_count": null,
      "outputs": [
        {
          "output_type": "stream",
          "name": "stdout",
          "text": [
            "Média amostral = 6.68 ; Desvio padrão = 0.41202\n"
          ]
        }
      ]
    },
    {
      "cell_type": "code",
      "source": [
        "# Teste de hipótese usando ttest_1samp\n",
        "t0, p_valor = st.ttest_1samp(a=data, popmean=mu, alternative='two-sided')\n",
        "# Conclusão do teste\n",
        "if p_valor <= alpha:\n",
        "  print(f'Hipótese nula rejeitada ao nível de significância {alpha*100}%')\n",
        "else:\n",
        "  print(f'Hipótese nula NÃO rejeitada ao nível de significância {alpha*100}%')"
      ],
      "metadata": {
        "colab": {
          "base_uri": "https://localhost:8080/"
        },
        "id": "J6P_D3l4dEnY",
        "outputId": "b87991a4-d4c8-4a15-8e2c-903ab530b6bc"
      },
      "execution_count": null,
      "outputs": [
        {
          "output_type": "stream",
          "name": "stdout",
          "text": [
            "Hipótese nula NÃO rejeitada ao nível de significância 5.0%\n"
          ]
        }
      ]
    },
    {
      "cell_type": "markdown",
      "source": [
        "# Exercício 04 - Usando um conjunto de dados\n",
        "\n",
        "*Tamanho da turma.* Você recebe um folheto de uma grande universidade. O folheto indica que o tamanho médio das turmas para cursos integrais é menor que 32 alunos. Você quer testar essa afirmação e seleciona aleatoriamente 18 turmas de tempo integral e determina o tamanho de cada uma. Os resultados estão listados na tabela seguinte.\n",
        "\n",
        "![Notebook - Aula 18-01.png](data:image/png;base64,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)\n",
        "\n",
        "Considerando o nível de significância de $\\alpha = 0,05$, você pode concordar com a afirmação da universidade?"
      ],
      "metadata": {
        "id": "1EgCgQP5KHAc"
      }
    },
    {
      "cell_type": "code",
      "source": [
        "import pandas as pd\n",
        "# Dados relativos ao tamanho das turmas\n",
        "turmas = pd.Series([35, 28, 29, 33, 32, 40, 26, 25, 29,\n",
        "                    28, 30, 36, 33, 29, 27, 30, 28, 25])"
      ],
      "metadata": {
        "id": "EvdN6kf6LQXv"
      },
      "execution_count": null,
      "outputs": []
    },
    {
      "cell_type": "code",
      "source": [
        "''' Construção do teste de hipótese:\n",
        "H0: mu >= 32 alunos\n",
        "Ha: mu < 32 alunos (afirmação)\n",
        "Tipo: unilateral à esquerda'''"
      ],
      "metadata": {
        "id": "X8Fy2b7tdSzf"
      },
      "execution_count": null,
      "outputs": []
    },
    {
      "cell_type": "code",
      "source": [
        "# Nível de significância\n",
        "alpha = 0.05\n",
        "\n",
        "# Teste de hipótese usando a função ttest_1samp\n",
        "t0, p_valor = st.ttest_1samp(a=turmas, popmean=32, alternative='less')\n",
        "\n",
        "# Conclusão do teste\n",
        "if p_valor <= alpha:\n",
        "  print(f'Hipótese nula rejeitada ao nível de significância {alpha*100}%')\n",
        "else:\n",
        "  print(f'Hipótese nula NÃO rejeitada ao nível de significância {alpha*100}%')"
      ],
      "metadata": {
        "colab": {
          "base_uri": "https://localhost:8080/"
        },
        "id": "_-Rcpv4MdQgH",
        "outputId": "039461fc-ef1e-440a-ad85-fe0cd6461a6e"
      },
      "execution_count": null,
      "outputs": [
        {
          "output_type": "stream",
          "name": "stdout",
          "text": [
            "Hipótese nula rejeitada ao nível de significância 5.0%\n"
          ]
        }
      ]
    },
    {
      "cell_type": "code",
      "source": [
        "# Uso da função TH_media_t\n",
        "t0 = TH_media_t(x_barra=turmas.mean(), n_amostras=len(turmas), mu=32,\n",
        "                s=turmas.std(ddof=1), alpha=0.05, teste='esquerda',\n",
        "                conclusao=True)"
      ],
      "metadata": {
        "colab": {
          "base_uri": "https://localhost:8080/"
        },
        "id": "vnAZtAYlduLe",
        "outputId": "51be2668-1aaf-4768-b8cb-2147cf9d56cf"
      },
      "execution_count": null,
      "outputs": [
        {
          "output_type": "stream",
          "name": "stdout",
          "text": [
            "*** Teste de hipótese para a média populacional (desvio padrão desconhecido) ***\n",
            "Teste unilateral à esquerda com t0 = -1.73961\n",
            "Hipótese nula rejeitada ao nível de significância 5.0%\n"
          ]
        }
      ]
    },
    {
      "cell_type": "code",
      "source": [
        "'''Conclusão: Há evidência suficiente ao nível de significância de 5% para\n",
        "concordar com a afirmação da universidade de que as turmas de tempo integral\n",
        "possuem menos de 32 alunos.'''"
      ],
      "metadata": {
        "id": "MbRGpL-pftTW"
      },
      "execution_count": null,
      "outputs": []
    },
    {
      "cell_type": "markdown",
      "source": [
        "# **TTI109 - Estatística**\n",
        "# **Aula 19 - Teste de Hipótese para a Variância e Desvio Padrão**\n",
        "\n",
        "Nessa aula vamos aprender a:\n",
        "\n",
        "* Empregar uma distribuição $\\chi^2$ com $n-1$ graus de liberdade para testar a variância e o desvio padrão de uma população normalmente distribuída;\n",
        "* Determinar os valores críticos $\\chi^2$ em um teste de hipótese, dependendo do tipo de teste (unilateral à esquerda, unilateral à direita ou bilateral);\n",
        "* Construir e avaliar um teste de hipótese sobre a variância $\\sigma^2$ e o desvio padrão $\\sigma$ de uma população normalmente distribuída."
      ],
      "metadata": {
        "id": "7plTEKYZgp4I"
      }
    },
    {
      "cell_type": "markdown",
      "source": [
        "# Valores críticos em uma distribuição $\\chi^2$\n",
        "\n",
        "**(a)** Encontre o valor crítico $\\chi^2_0$ para um teste unilateral à direita com $\\alpha = 0,10$ e $n = 26$."
      ],
      "metadata": {
        "id": "TkmZ_P2bgFQR"
      }
    },
    {
      "cell_type": "code",
      "source": [
        "# Biblioteca\n",
        "import scipy.stats as st"
      ],
      "metadata": {
        "id": "QSbI5cpFh8oY"
      },
      "execution_count": null,
      "outputs": []
    },
    {
      "cell_type": "code",
      "source": [
        "alpha, n = 0.10, 26\n",
        "dist_chi2 = st.chi2(df=n-1)\n",
        "X20 = dist_chi2.ppf(1-alpha)\n",
        "print(f'Teste unilateral à direita com alpha = {alpha*100}%')\n",
        "print(f'Valor crítico X20 = {X20:.5f}')"
      ],
      "metadata": {
        "colab": {
          "base_uri": "https://localhost:8080/"
        },
        "outputId": "b5b7c4ae-d043-4346-d703-e48a83828d5e",
        "id": "ER2lSTM7gHpO"
      },
      "execution_count": null,
      "outputs": [
        {
          "output_type": "stream",
          "name": "stdout",
          "text": [
            "Teste unilateral à direita com alpha = 10.0%\n",
            "Valor crítico X20 = 34.38159\n"
          ]
        }
      ]
    },
    {
      "cell_type": "markdown",
      "source": [
        "**(b)** Encontre o valor crítico $\\chi^2_0$ para um teste unilateral à esquerda com\n",
        "$\\alpha = 0,01$ e $n = 11$."
      ],
      "metadata": {
        "id": "CofH6rNIiFjo"
      }
    },
    {
      "cell_type": "code",
      "source": [
        "alpha, n = 0.01, 11\n",
        "dist_chi2 = st.chi2(df=n-1)\n",
        "X20 = dist_chi2.ppf(alpha)\n",
        "print(f'Teste unilateral à esquerda com alpha = {alpha*100}%')\n",
        "print(f'Valor crítico X20 = {X20:.5f}')"
      ],
      "metadata": {
        "colab": {
          "base_uri": "https://localhost:8080/"
        },
        "id": "caLu-YgaiKW_",
        "outputId": "c1c05ff5-b4c2-4659-c1f7-a818eeac6b9d"
      },
      "execution_count": null,
      "outputs": [
        {
          "output_type": "stream",
          "name": "stdout",
          "text": [
            "Teste unilateral à esquerda com alpha = 1.0%\n",
            "Valor crítico X20 = 2.55821\n"
          ]
        }
      ]
    },
    {
      "cell_type": "markdown",
      "source": [
        "**(c)** Encontre os valores críticos $\\chi^2_L$ e $\\chi^2_R$ para um teste bilateral com $\\alpha = 0,05$ e $n = 9$."
      ],
      "metadata": {
        "id": "79XeIdnniTlX"
      }
    },
    {
      "cell_type": "code",
      "source": [
        "alpha, n = 0.05, 9\n",
        "dist_chi2 = st.chi2(df=n-1)\n",
        "X2L = dist_chi2.ppf(alpha/2)\n",
        "X2R = dist_chi2.ppf(1-alpha/2)\n",
        "print(f'Teste bilateral com alpha = {alpha*100}%')\n",
        "print(f'Valores críticos X2L = {X2L:.5f} e X2R = {X2R:.5f}')"
      ],
      "metadata": {
        "colab": {
          "base_uri": "https://localhost:8080/"
        },
        "id": "BIU9tUkQiVj3",
        "outputId": "349c8138-e69a-47be-ef84-0e721e8dee6b"
      },
      "execution_count": null,
      "outputs": [
        {
          "output_type": "stream",
          "name": "stdout",
          "text": [
            "Teste bilateral com alpha = 5.0%\n",
            "Valores críticos X2L = 2.17973 e X2R = 17.53455\n"
          ]
        }
      ]
    },
    {
      "cell_type": "markdown",
      "source": [
        "# Função `TH_vardp_chi2` para o teste de hipótese da variância e desvio padrão\n",
        "\n",
        "A função `TH_vardp_chi2` decide sobre a validade da hipótese nula ao verificar se o(s) valor(es) crítico(s) qui-quadrado pertencem à região de rejeição."
      ],
      "metadata": {
        "id": "mmb7V6r8gOiG"
      }
    },
    {
      "cell_type": "code",
      "source": [
        "def TH_vardp_chi2(est_amostral=None, n_amostras=None, val_parametro=None,\n",
        "                  parametro='sigma', alpha=0.05, teste='esquerda',\n",
        "                  conclusao=True):\n",
        "  '''Função para teste de hipótese da variância ou do desvio padrão populacional,\n",
        "  com nível de significância alpha.\n",
        "  ENTRADA:\n",
        "  - est_amostral: variância ou desvio padrão amostral\n",
        "  - n_amostras: número de amostras coletadas no experimento\n",
        "  - val_parametro = valor a ser testado, seja variância ou desvio padrão\n",
        "  - parametro = 'sigma2' para teste de variância e 'sigma' para teste de\n",
        "  desvio padrão populacional\n",
        "  - alpha: nível de significância adotado no teste (valor default 0.05)\n",
        "  - teste: string que identifica o tipo de teste a ser realizado: 'esquerda'\n",
        "  para teste unilateral à esquerda, 'direita', para teste unilateral à direita\n",
        "  e 'bilateral' para teste bilateral (valor default 'esquerda')\n",
        "  - conclusao: flag para ativação do relatório de conclusão do teste de hipótese\n",
        "  (valor default=True)\n",
        "  SAÍDA:\n",
        "  - relatório de conclusão do teste de hipótese, caso cocnlusao=True\n",
        "  - chi2: valor da estatística padronizada\n",
        "  - X20: valor(es) crítico(s) do teste'''\n",
        "\n",
        "  # Criação da distribuição chi-quadrado\n",
        "  dist_chi2 = st.chi2(df=n_amostras-1)\n",
        "\n",
        "  # Cálculo da estatística de teste padronizada\n",
        "  if parametro == 'sigma2':\n",
        "    chi2 = (n_amostras-1)*est_amostral/val_parametro\n",
        "    param = 'variância'\n",
        "  elif parametro == 'sigma':\n",
        "    chi2 = (n_amostras-1)*est_amostral**2/val_parametro**2\n",
        "    param = 'desvio padrão'\n",
        "\n",
        "  # Hipótese nula inicialmente validada\n",
        "  rejeicao = False\n",
        "\n",
        "  # Cálculo do chi2 crítico, de acordo com o tipo de teste\n",
        "  if teste == 'esquerda':\n",
        "    X20 = dist_chi2.ppf(alpha)\n",
        "    tipo = 'unilateral à esquerda'\n",
        "    # Decisão sobre pertinência de X20 à região de rejeição\n",
        "    if chi2 <= X20:\n",
        "      rejeicao = True\n",
        "  elif teste == 'direita':\n",
        "    X20 = dist_chi2.ppf(1-alpha)\n",
        "    tipo = 'unilateral à direita'\n",
        "    # Decisão sobre pertinência de X20 à região de rejeição\n",
        "    if chi2 >= X20:\n",
        "      rejeicao = True\n",
        "  elif teste == 'bilateral':\n",
        "    X2L = dist_chi2.ppf(alpha/2)\n",
        "    X2R = dist_chi2.ppf(1-alpha/2)\n",
        "    tipo = 'bilateral'\n",
        "    X20 = (X2L, X2R)\n",
        "    # Decisão sobre pertinência de X20 à região de rejeição\n",
        "    if (chi2 <= X2L) or (chi2 >= X2R):\n",
        "      rejeicao = True\n",
        "\n",
        "  # Relatório de conclusão do teste de hipótese\n",
        "  if conclusao:\n",
        "    print(f'*** Teste de hipótese para {param} populacional ***')\n",
        "    print(f'Teste {tipo} com:')\n",
        "    print(f'Estatística de teste padronizada = {chi2:.4f}')\n",
        "    if isinstance(X20, tuple):\n",
        "      print(f'Valores chi-quadrado críticos X2L = {X20[0]:.4f} e X2R = {X20[1]:.4f}')\n",
        "    else:\n",
        "      print(f'Valor chi-quadrado crítico = {X20:.4f}')\n",
        "    if rejeicao:\n",
        "      print(f'Hipótese nula rejeitada ao nível de significância {alpha*100}%')\n",
        "    else:\n",
        "      print(f'Hipótese nula NÃO rejeitada ao nível de significância {alpha*100}%')\n",
        "  return chi2, X20"
      ],
      "metadata": {
        "id": "sNjzBAP7gPJH"
      },
      "execution_count": null,
      "outputs": []
    },
    {
      "cell_type": "markdown",
      "source": [
        "# Exercício 01\n",
        "\n",
        "Uma empresa de processamento de laticínios afirma que a variância da quantidade de gordura no leite integral processado por ela é não mais que 0,25. Você suspeita que essa afirmação esteja errada e descobre que uma amostra aleatória de 41 recipientes de leite tem uma\n",
        "variância de 0,27.\n",
        "\n",
        "Para um nível de significância $\\alpha = 0,05$, há evidência suficiente para rejeitar a afirmação da empresa? Suponha que a população é normalmente distribuída."
      ],
      "metadata": {
        "id": "Pky8aQ9HgSPC"
      }
    },
    {
      "cell_type": "code",
      "source": [
        "''' Construção do teste de hipótese:\n",
        "H0: sigma2 <= 0.25 (afirmação)\n",
        "Ha: sigma2 > 0.25\n",
        "Tipo: unilateral à direita'''"
      ],
      "metadata": {
        "colab": {
          "base_uri": "https://localhost:8080/",
          "height": 52
        },
        "id": "0wZvOMiroU3w",
        "outputId": "9f43bcd6-f172-49ac-aa55-2ded7b866449"
      },
      "execution_count": null,
      "outputs": [
        {
          "output_type": "execute_result",
          "data": {
            "text/plain": [
              "' Construção do teste de hipótese:\\nH0: sigma2 <= 0.25 (afirmação)\\nHa: sigma2 > 0.25\\nTipo: unilateral à direita'"
            ],
            "application/vnd.google.colaboratory.intrinsic+json": {
              "type": "string"
            }
          },
          "metadata": {},
          "execution_count": 7
        }
      ]
    },
    {
      "cell_type": "code",
      "source": [
        "# Uso da função TH_vardp_chi2\n",
        "est_teste, X2critico = TH_vardp_chi2(est_amostral=0.27, n_amostras=41,\n",
        "                                     val_parametro=0.25, parametro='sigma2',\n",
        "                                     alpha=0.05, teste='direita',\n",
        "                                     conclusao=True)"
      ],
      "metadata": {
        "colab": {
          "base_uri": "https://localhost:8080/"
        },
        "outputId": "f60f42b8-f93f-4b0d-cef5-4494396be63e",
        "id": "o0koWEsJgT57"
      },
      "execution_count": null,
      "outputs": [
        {
          "output_type": "stream",
          "name": "stdout",
          "text": [
            "*** Teste de hipótese para variância populacional ***\n",
            "Teste unilateral à direita com:\n",
            "Estatística de teste padronizada = 43.2000\n",
            "Valor chi-quadrado crítico = 55.7585\n",
            "Hipótese nula NÃO rejeitada ao nível de significância 5.0%\n"
          ]
        }
      ]
    },
    {
      "cell_type": "code",
      "source": [
        "'''Conclusão: Ná há evidência suficiente ao nível de significância de 5% para\n",
        "rejeitar a afirmação da empresa de que a variância da quantidade de gordura no\n",
        "leite integral é não mais que 0,25.'''"
      ],
      "metadata": {
        "colab": {
          "base_uri": "https://localhost:8080/",
          "height": 52
        },
        "id": "bhve5qOEpVzx",
        "outputId": "93db0722-32af-4c28-ca3d-72a89b77d3df"
      },
      "execution_count": null,
      "outputs": [
        {
          "output_type": "execute_result",
          "data": {
            "text/plain": [
              "'Conclusão: Ná há evidência suficiente ao nível de significância de 5% para\\nrejeitar a afirmação da empresa de que a variância da quantidade de gordura no\\nleite integral é não mais que 0,25.'"
            ],
            "application/vnd.google.colaboratory.intrinsic+json": {
              "type": "string"
            }
          },
          "metadata": {},
          "execution_count": 9
        }
      ]
    },
    {
      "cell_type": "markdown",
      "source": [
        "# Exercício 02\n",
        "\n",
        "Uma empresa afirma que o desvio padrão do tempo de duração de uma ligação recebida para ser transferida para a área correta é menor que 1,4 minuto. Uma amostra aleatória de 25 ligações recebidas tem um desvio padrão de 1,1 minuto.\n",
        "\n",
        "Para o nível de significância $\\alpha = 0,10$,\n",
        "há evidência suficiente para concordar com a afirmação da empresa? Suponha que a população é normalmente distribuída."
      ],
      "metadata": {
        "id": "VxnQWPGXgV-d"
      }
    },
    {
      "cell_type": "code",
      "source": [
        "''' Construção do teste de hipótese:\n",
        "H0: sigma >= 1.4 min\n",
        "Ha: sigma < 1.4 min (afirmação)\n",
        "Tipo: unilateral à esquerda'''"
      ],
      "metadata": {
        "colab": {
          "base_uri": "https://localhost:8080/",
          "height": 52
        },
        "id": "x57Ulmysqmzg",
        "outputId": "132ff3f4-1a66-40b3-f311-31e28623d7fb"
      },
      "execution_count": null,
      "outputs": [
        {
          "output_type": "execute_result",
          "data": {
            "text/plain": [
              "' Construção do teste de hipótese:\\nH0: sigma >= 1.4 min\\nHa: sigma < 1.4 min (afirmação)\\nTipo: unilateral à esquerda'"
            ],
            "application/vnd.google.colaboratory.intrinsic+json": {
              "type": "string"
            }
          },
          "metadata": {},
          "execution_count": 10
        }
      ]
    },
    {
      "cell_type": "code",
      "source": [
        "# Uso da função TH_vardp_chi2\n",
        "est_teste, X2critico = TH_vardp_chi2(est_amostral=1.1, n_amostras=25,\n",
        "                                     val_parametro=1.4, parametro='sigma',\n",
        "                                     alpha=0.1, teste='esquerda',\n",
        "                                     conclusao=True)"
      ],
      "metadata": {
        "colab": {
          "base_uri": "https://localhost:8080/"
        },
        "id": "xVNe1b69q1rJ",
        "outputId": "de4d3ca2-aff3-4f48-c511-4b447b29b4b5"
      },
      "execution_count": null,
      "outputs": [
        {
          "output_type": "stream",
          "name": "stdout",
          "text": [
            "*** Teste de hipótese para desvio padrão populacional ***\n",
            "Teste unilateral à esquerda com:\n",
            "Estatística de teste padronizada = 14.8163\n",
            "Valor chi-quadrado crítico = 15.6587\n",
            "Hipótese nula rejeitada ao nível de significância 10.0%\n"
          ]
        }
      ]
    },
    {
      "cell_type": "code",
      "source": [
        "'''Conclusão: Há evidência suficiente ao nível de significância de 10% para\n",
        "concordar com a afirmação de que o desvio padrão do tempo de duração de uma\n",
        "ligação recebida para ser transferida para a área correta é menor que\n",
        "1,4 minutos.'''"
      ],
      "metadata": {
        "colab": {
          "base_uri": "https://localhost:8080/",
          "height": 70
        },
        "id": "6ufwRRh1rE9g",
        "outputId": "a0e27b45-e75e-42e0-b112-a7a2bb3e6e13"
      },
      "execution_count": null,
      "outputs": [
        {
          "output_type": "execute_result",
          "data": {
            "text/plain": [
              "'Conclusão: Há evidência suficiente ao nível de significância de 10% para\\nconcordar com a afirmação de que o desvio padrão do tempo de duração de uma\\nligação recebida para ser transferida para a área correta é menor que\\n1,4 minutos.'"
            ],
            "application/vnd.google.colaboratory.intrinsic+json": {
              "type": "string"
            }
          },
          "metadata": {},
          "execution_count": 12
        }
      ]
    },
    {
      "cell_type": "markdown",
      "source": [
        "# Exercício 03\n",
        "\n",
        "Um fabricante de artigos esportivos afirma que a variância da força de uma certa linha de pesca é de 15,9. Uma amostra aleatória de 15 rolos de linha tem uma variância de 21,8.\n",
        "\n",
        "Para o nível de significância $\\alpha = 0,05$, há evidência suficiente para rejeitar a afirmação do fabricante? Suponha que a população é normalmente distribuída."
      ],
      "metadata": {
        "id": "1P1Ee9VRgaun"
      }
    },
    {
      "cell_type": "code",
      "source": [
        "''' Construção do teste de hipótese:\n",
        "H0: sigma2 = 15.9 (afirmação)\n",
        "Ha: sigma2 != 15.9\n",
        "Tipo: bilateral'''"
      ],
      "metadata": {
        "colab": {
          "base_uri": "https://localhost:8080/",
          "height": 35
        },
        "id": "dHgEcTF6raXx",
        "outputId": "58308576-925c-4fba-8386-2e882cc656d5"
      },
      "execution_count": null,
      "outputs": [
        {
          "output_type": "execute_result",
          "data": {
            "text/plain": [
              "' Construção do teste de hipótese:\\nH0: sigma2 = 15.9 (afirmação)\\nHa: sigma2 != 15.9\\nTipo: bilateral'"
            ],
            "application/vnd.google.colaboratory.intrinsic+json": {
              "type": "string"
            }
          },
          "metadata": {},
          "execution_count": 13
        }
      ]
    },
    {
      "cell_type": "code",
      "source": [
        "# Uso da função TH_vardp_chi2\n",
        "est_teste, X2critico = TH_vardp_chi2(est_amostral=21.8, n_amostras=15,\n",
        "                                     val_parametro=15.9, parametro='sigma2',\n",
        "                                     alpha=0.05, teste='bilateral',\n",
        "                                     conclusao=True)"
      ],
      "metadata": {
        "colab": {
          "base_uri": "https://localhost:8080/"
        },
        "id": "dmR_TjKmN3pH",
        "outputId": "74da3dd9-6642-4762-d8fa-ffb84244ec07"
      },
      "execution_count": null,
      "outputs": [
        {
          "output_type": "stream",
          "name": "stdout",
          "text": [
            "*** Teste de hipótese para variância populacional ***\n",
            "Teste bilateral com:\n",
            "Estatística de teste padronizada = 19.1950\n",
            "Valores chi-quadrado críticos X2L = 5.6287 e X2R = 26.1189\n",
            "Hipótese nula NÃO rejeitada ao nível de significância 5.0%\n"
          ]
        }
      ]
    },
    {
      "cell_type": "code",
      "source": [
        "'''Conclusão: Não há evidência suficiente ao nível de significância de 5% para\n",
        "rejeitar a afirmação do fabricante de que a variância da força da linha de\n",
        "pesca é de 15,9.'''"
      ],
      "metadata": {
        "id": "Jt8jnWZ1Oagw"
      },
      "execution_count": null,
      "outputs": []
    },
    {
      "cell_type": "markdown",
      "source": [
        "# Exercício 04\n",
        "\n",
        "Um chefe de polícia afirma que o desvio padrão dos tempos de resposta é menor que 3,7 minutos. Uma amostra aleatória de 9 tempos de resposta tem um desvio padrão de 3,0 minutos.\n",
        "\n",
        "Para o nível de significância $\\alpha = 0,05$, há evidência suficiente para concordar com a afirmação do chefe de polícia? Suponha que a população é normalmente\n",
        "distribuída."
      ],
      "metadata": {
        "id": "067Bu-P-gd7k"
      }
    },
    {
      "cell_type": "code",
      "source": [
        "''' Construção do teste de hipótese:\n",
        "H0: sigma >= 3.7 min\n",
        "Ha: sigma < 3.7 min (afirmação)\n",
        "Tipo: unilateral à esquerda'''"
      ],
      "metadata": {
        "id": "44Eg3QKzOukW"
      },
      "execution_count": null,
      "outputs": []
    },
    {
      "cell_type": "code",
      "source": [
        "# Uso da função TH_vardp_chi2\n",
        "est_teste, X2critico = TH_vardp_chi2(est_amostral=3.0, n_amostras=9,\n",
        "                                     val_parametro=3.7, parametro='sigma',\n",
        "                                     alpha=0.05, teste='esquerda',\n",
        "                                     conclusao=True)"
      ],
      "metadata": {
        "colab": {
          "base_uri": "https://localhost:8080/"
        },
        "id": "K8gVgsH7O5Q4",
        "outputId": "c3afdc7a-e93f-4d45-e96b-4bc8a688e702"
      },
      "execution_count": null,
      "outputs": [
        {
          "output_type": "stream",
          "name": "stdout",
          "text": [
            "*** Teste de hipótese para desvio padrão populacional ***\n",
            "Teste unilateral à esquerda com:\n",
            "Estatística de teste padronizada = 5.2593\n",
            "Valor chi-quadrado crítico = 2.7326\n",
            "Hipótese nula NÃO rejeitada ao nível de significância 5.0%\n"
          ]
        }
      ]
    },
    {
      "cell_type": "code",
      "source": [
        "'''Conclusão: Não há evidência suficiente ao nível de sigificância de 5% para\n",
        "concordar com a afirmação do chefe de polícia que o desvio padrão dos tempos\n",
        "de resposta é menor que 3,7 minutos.'''"
      ],
      "metadata": {
        "id": "t6GlC8J-PHgd"
      },
      "execution_count": null,
      "outputs": []
    },
    {
      "cell_type": "markdown",
      "source": [
        "# Exercício 05\n",
        "\n",
        "Uma empresa que oferece produtos dietéticos e serviços de perda de peso afirma que a variância das perdas de peso de seus usuários é de 25,5. Uma amostra aleatória de 13 usuários tem uma variância de 10,8.\n",
        "\n",
        "Para o nível de significância a = 0,10, há evidência suficiente para rejeitar a afirmação da empresa? Suponha que a população é normalmente distribuída."
      ],
      "metadata": {
        "id": "6svsEEtCkWs3"
      }
    },
    {
      "cell_type": "code",
      "source": [
        "''' Construção do teste de hipótese:\n",
        "H0: sigma2 = 25.5 (afirmação)\n",
        "Ha: sigma2 != 25.5\n",
        "Tipo: bilateral'''"
      ],
      "metadata": {
        "id": "VktfLP5iPrXW"
      },
      "execution_count": null,
      "outputs": []
    },
    {
      "cell_type": "code",
      "source": [
        "# Uso da função TH_vardp_chi2\n",
        "est_teste, X2critico = TH_vardp_chi2(est_amostral=10.8, n_amostras=13,\n",
        "                                     val_parametro=25.5, parametro='sigma2',\n",
        "                                     alpha=0.10, teste='bilateral',\n",
        "                                     conclusao=True)"
      ],
      "metadata": {
        "colab": {
          "base_uri": "https://localhost:8080/"
        },
        "id": "ERU-1uz_P1Uv",
        "outputId": "db56ae23-c5fd-4519-b488-003789d1cf81"
      },
      "execution_count": null,
      "outputs": [
        {
          "output_type": "stream",
          "name": "stdout",
          "text": [
            "*** Teste de hipótese para variância populacional ***\n",
            "Teste bilateral com:\n",
            "Estatística de teste padronizada = 5.0824\n",
            "Valores chi-quadrado críticos X2L = 5.2260 e X2R = 21.0261\n",
            "Hipótese nula rejeitada ao nível de significância 10.0%\n"
          ]
        }
      ]
    },
    {
      "cell_type": "code",
      "source": [
        "'''Conclusão: Há evidência suficiente ao nível de significância de 10% para\n",
        "rejeitar a afirmação da empresa de que a variância das perdas de peso de seus\n",
        "usuários é de 25,5.'''"
      ],
      "metadata": {
        "id": "jza1qDfmQGcg"
      },
      "execution_count": null,
      "outputs": []
    },
    {
      "cell_type": "markdown",
      "source": [
        "# Exercício 06\n",
        "\n",
        "O salário anual (em dólares) de 14 bombeiros escolhidos aleatoriamente está listado a seguir.\n",
        "\n",
        "![Aula 19-01.png](data:image/png;base64,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)\n",
        "\n",
        "Para o nível de significância $\\alpha = 0,05$, há evidência suficiente para concordar com a afirmação de que o desvio padrão dos salários anuais é diferente de US$ 5.500? (Adaptado de: *Salary.com*)"
      ],
      "metadata": {
        "id": "00vxL9lnlduv"
      }
    },
    {
      "cell_type": "code",
      "source": [
        "import pandas as pd\n",
        "\n",
        "# Conjunto de dados\n",
        "salarios = pd.Series([50772, 52409, 41783, 51106, 43816, 35056, 32741,\n",
        "                      40981, 46527, 40220, 52068, 34902, 28289, 37880])"
      ],
      "metadata": {
        "id": "JM8BTm6YQfDh"
      },
      "execution_count": null,
      "outputs": []
    },
    {
      "cell_type": "code",
      "source": [
        "''' Construção do teste de hipótese:\n",
        "H0: sigma = 5500 dólares\n",
        "Ha: sigma != 5500 dólares (afirmação)\n",
        "Tipo: bilateral'''"
      ],
      "metadata": {
        "id": "LDE0DyzVQc-6"
      },
      "execution_count": null,
      "outputs": []
    },
    {
      "cell_type": "code",
      "source": [
        "# Uso da função TH_vardp_chi2\n",
        "est_teste, X2critico = TH_vardp_chi2(est_amostral=salarios.std(ddof=1),\n",
        "                                     n_amostras=len(salarios),\n",
        "                                     val_parametro=5500, parametro='sigma',\n",
        "                                     alpha=0.05, teste='bilateral',\n",
        "                                     conclusao=True)"
      ],
      "metadata": {
        "colab": {
          "base_uri": "https://localhost:8080/"
        },
        "id": "I7RbciHrQo0x",
        "outputId": "b0f975fb-5842-4eaa-fb4f-4fe503a6f021"
      },
      "execution_count": null,
      "outputs": [
        {
          "output_type": "stream",
          "name": "stdout",
          "text": [
            "*** Teste de hipótese para desvio padrão populacional ***\n",
            "Teste bilateral com:\n",
            "Estatística de teste padronizada = 26.0132\n",
            "Valores chi-quadrado críticos X2L = 5.0088 e X2R = 24.7356\n",
            "Hipótese nula rejeitada ao nível de significância 5.0%\n"
          ]
        }
      ]
    },
    {
      "cell_type": "code",
      "source": [
        "'''Conclusão: Há evidência suficiente ao nível de significância de 10% para\n",
        "concordar com a afirmação de que o desvio padrão dos salários anuais é\n",
        "diferente de US$ 5.500.'''"
      ],
      "metadata": {
        "id": "-tCl8ImfRM9g"
      },
      "execution_count": null,
      "outputs": []
    }
  ]
}